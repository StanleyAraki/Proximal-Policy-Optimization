{
 "cells": [
  {
   "cell_type": "markdown",
   "metadata": {},
   "source": [
    "**Applications of Proximal Policy Optimization Algorithm on Atari Games**\n",
    "\n",
    "Rosaline Zhu, Stanley Araki"
   ]
  },
  {
   "cell_type": "markdown",
   "metadata": {},
   "source": [
    "**Import libraries to use**"
   ]
  },
  {
   "cell_type": "code",
   "execution_count": 10,
   "metadata": {},
   "outputs": [],
   "source": [
    "import gym\n",
    "import numpy as np\n",
    "import torch\n",
    "from torch import nn\n",
    "from torch import optim\n",
    "from gym.utils.play import play, PlayPlot\\\n",
    "\n",
    "# Need to pip isntall gym, numpy, torch, pyvirtualdisplay, Xvfb and XQuartz (https://www.xquartz.org)\n"
   ]
  },
  {
   "cell_type": "code",
   "execution_count": 12,
   "metadata": {},
   "outputs": [
    {
     "data": {
      "text/html": [
       "== Status ==<br>Current time: 2022-04-03 22:39:10 (running for 00:00:00.12)<br>Memory usage on this node: 10.1/16.0 GiB<br>Using FIFO scheduling algorithm.<br>Resources requested: 0/12 CPUs, 0/0 GPUs, 0.0/4.8 GiB heap, 0.0/2.0 GiB objects<br>Result logdir: /Users/stanleyaraki/ray_results/ImpalaTrainer_2022-04-03_22-39-10<br>Number of trials: 1/1 (1 PENDING)<br><table>\n",
       "<thead>\n",
       "<tr><th>Trial name                                      </th><th>status  </th><th>loc  </th></tr>\n",
       "</thead>\n",
       "<tbody>\n",
       "<tr><td>ImpalaTrainer_BreakoutNoFrameskip-v4_67ff1_00000</td><td>PENDING </td><td>     </td></tr>\n",
       "</tbody>\n",
       "</table><br><br>"
      ],
      "text/plain": [
       "<IPython.core.display.HTML object>"
      ]
     },
     "metadata": {},
     "output_type": "display_data"
    },
    {
     "name": "stdout",
     "output_type": "stream",
     "text": [
      "\u001b[2m\u001b[1m\u001b[36m(scheduler +15m53s)\u001b[0m Tip: use `ray status` to view detailed cluster status. To disable these messages, set RAY_SCHEDULER_EVENTS=0.\n",
      "\u001b[2m\u001b[1m\u001b[33m(scheduler +15m53s)\u001b[0m Error: No available node types can fulfill resource request {'GPU': 1.0, 'CPU': 1.0}. Add suitable node types to this cluster to resolve this issue.\n"
     ]
    },
    {
     "data": {
      "text/html": [
       "== Status ==<br>Current time: 2022-04-03 22:39:15 (running for 00:00:05.12)<br>Memory usage on this node: 10.0/16.0 GiB<br>Using FIFO scheduling algorithm.<br>Resources requested: 0/12 CPUs, 0/0 GPUs, 0.0/4.8 GiB heap, 0.0/2.0 GiB objects<br>Result logdir: /Users/stanleyaraki/ray_results/ImpalaTrainer_2022-04-03_22-39-10<br>Number of trials: 1/1 (1 PENDING)<br><table>\n",
       "<thead>\n",
       "<tr><th>Trial name                                      </th><th>status  </th><th>loc  </th></tr>\n",
       "</thead>\n",
       "<tbody>\n",
       "<tr><td>ImpalaTrainer_BreakoutNoFrameskip-v4_67ff1_00000</td><td>PENDING </td><td>     </td></tr>\n",
       "</tbody>\n",
       "</table><br><br>"
      ],
      "text/plain": [
       "<IPython.core.display.HTML object>"
      ]
     },
     "metadata": {},
     "output_type": "display_data"
    },
    {
     "data": {
      "text/html": [
       "== Status ==<br>Current time: 2022-04-03 22:39:20 (running for 00:00:10.12)<br>Memory usage on this node: 10.0/16.0 GiB<br>Using FIFO scheduling algorithm.<br>Resources requested: 0/12 CPUs, 0/0 GPUs, 0.0/4.8 GiB heap, 0.0/2.0 GiB objects<br>Result logdir: /Users/stanleyaraki/ray_results/ImpalaTrainer_2022-04-03_22-39-10<br>Number of trials: 1/1 (1 PENDING)<br><table>\n",
       "<thead>\n",
       "<tr><th>Trial name                                      </th><th>status  </th><th>loc  </th></tr>\n",
       "</thead>\n",
       "<tbody>\n",
       "<tr><td>ImpalaTrainer_BreakoutNoFrameskip-v4_67ff1_00000</td><td>PENDING </td><td>     </td></tr>\n",
       "</tbody>\n",
       "</table><br><br>"
      ],
      "text/plain": [
       "<IPython.core.display.HTML object>"
      ]
     },
     "metadata": {},
     "output_type": "display_data"
    },
    {
     "data": {
      "text/html": [
       "== Status ==<br>Current time: 2022-04-03 22:39:25 (running for 00:00:15.12)<br>Memory usage on this node: 9.9/16.0 GiB<br>Using FIFO scheduling algorithm.<br>Resources requested: 0/12 CPUs, 0/0 GPUs, 0.0/4.8 GiB heap, 0.0/2.0 GiB objects<br>Result logdir: /Users/stanleyaraki/ray_results/ImpalaTrainer_2022-04-03_22-39-10<br>Number of trials: 1/1 (1 PENDING)<br><table>\n",
       "<thead>\n",
       "<tr><th>Trial name                                      </th><th>status  </th><th>loc  </th></tr>\n",
       "</thead>\n",
       "<tbody>\n",
       "<tr><td>ImpalaTrainer_BreakoutNoFrameskip-v4_67ff1_00000</td><td>PENDING </td><td>     </td></tr>\n",
       "</tbody>\n",
       "</table><br><br>"
      ],
      "text/plain": [
       "<IPython.core.display.HTML object>"
      ]
     },
     "metadata": {},
     "output_type": "display_data"
    },
    {
     "data": {
      "text/html": [
       "== Status ==<br>Current time: 2022-04-03 22:39:30 (running for 00:00:20.12)<br>Memory usage on this node: 9.9/16.0 GiB<br>Using FIFO scheduling algorithm.<br>Resources requested: 0/12 CPUs, 0/0 GPUs, 0.0/4.8 GiB heap, 0.0/2.0 GiB objects<br>Result logdir: /Users/stanleyaraki/ray_results/ImpalaTrainer_2022-04-03_22-39-10<br>Number of trials: 1/1 (1 PENDING)<br><table>\n",
       "<thead>\n",
       "<tr><th>Trial name                                      </th><th>status  </th><th>loc  </th></tr>\n",
       "</thead>\n",
       "<tbody>\n",
       "<tr><td>ImpalaTrainer_BreakoutNoFrameskip-v4_67ff1_00000</td><td>PENDING </td><td>     </td></tr>\n",
       "</tbody>\n",
       "</table><br><br>"
      ],
      "text/plain": [
       "<IPython.core.display.HTML object>"
      ]
     },
     "metadata": {},
     "output_type": "display_data"
    },
    {
     "data": {
      "text/html": [
       "== Status ==<br>Current time: 2022-04-03 22:39:35 (running for 00:00:25.12)<br>Memory usage on this node: 9.9/16.0 GiB<br>Using FIFO scheduling algorithm.<br>Resources requested: 0/12 CPUs, 0/0 GPUs, 0.0/4.8 GiB heap, 0.0/2.0 GiB objects<br>Result logdir: /Users/stanleyaraki/ray_results/ImpalaTrainer_2022-04-03_22-39-10<br>Number of trials: 1/1 (1 PENDING)<br><table>\n",
       "<thead>\n",
       "<tr><th>Trial name                                      </th><th>status  </th><th>loc  </th></tr>\n",
       "</thead>\n",
       "<tbody>\n",
       "<tr><td>ImpalaTrainer_BreakoutNoFrameskip-v4_67ff1_00000</td><td>PENDING </td><td>     </td></tr>\n",
       "</tbody>\n",
       "</table><br><br>"
      ],
      "text/plain": [
       "<IPython.core.display.HTML object>"
      ]
     },
     "metadata": {},
     "output_type": "display_data"
    },
    {
     "data": {
      "text/html": [
       "== Status ==<br>Current time: 2022-04-03 22:39:40 (running for 00:00:30.13)<br>Memory usage on this node: 9.9/16.0 GiB<br>Using FIFO scheduling algorithm.<br>Resources requested: 0/12 CPUs, 0/0 GPUs, 0.0/4.8 GiB heap, 0.0/2.0 GiB objects<br>Result logdir: /Users/stanleyaraki/ray_results/ImpalaTrainer_2022-04-03_22-39-10<br>Number of trials: 1/1 (1 PENDING)<br><table>\n",
       "<thead>\n",
       "<tr><th>Trial name                                      </th><th>status  </th><th>loc  </th></tr>\n",
       "</thead>\n",
       "<tbody>\n",
       "<tr><td>ImpalaTrainer_BreakoutNoFrameskip-v4_67ff1_00000</td><td>PENDING </td><td>     </td></tr>\n",
       "</tbody>\n",
       "</table><br><br>"
      ],
      "text/plain": [
       "<IPython.core.display.HTML object>"
      ]
     },
     "metadata": {},
     "output_type": "display_data"
    },
    {
     "data": {
      "text/html": [
       "== Status ==<br>Current time: 2022-04-03 22:39:45 (running for 00:00:35.13)<br>Memory usage on this node: 9.8/16.0 GiB<br>Using FIFO scheduling algorithm.<br>Resources requested: 0/12 CPUs, 0/0 GPUs, 0.0/4.8 GiB heap, 0.0/2.0 GiB objects<br>Result logdir: /Users/stanleyaraki/ray_results/ImpalaTrainer_2022-04-03_22-39-10<br>Number of trials: 1/1 (1 PENDING)<br><table>\n",
       "<thead>\n",
       "<tr><th>Trial name                                      </th><th>status  </th><th>loc  </th></tr>\n",
       "</thead>\n",
       "<tbody>\n",
       "<tr><td>ImpalaTrainer_BreakoutNoFrameskip-v4_67ff1_00000</td><td>PENDING </td><td>     </td></tr>\n",
       "</tbody>\n",
       "</table><br><br>"
      ],
      "text/plain": [
       "<IPython.core.display.HTML object>"
      ]
     },
     "metadata": {},
     "output_type": "display_data"
    },
    {
     "name": "stdout",
     "output_type": "stream",
     "text": [
      "\u001b[2m\u001b[1m\u001b[33m(scheduler +16m28s)\u001b[0m Error: No available node types can fulfill resource request {'CPU': 1.0, 'GPU': 1.0}. Add suitable node types to this cluster to resolve this issue.\n"
     ]
    },
    {
     "data": {
      "text/html": [
       "== Status ==<br>Current time: 2022-04-03 22:39:50 (running for 00:00:40.13)<br>Memory usage on this node: 9.9/16.0 GiB<br>Using FIFO scheduling algorithm.<br>Resources requested: 0/12 CPUs, 0/0 GPUs, 0.0/4.8 GiB heap, 0.0/2.0 GiB objects<br>Result logdir: /Users/stanleyaraki/ray_results/ImpalaTrainer_2022-04-03_22-39-10<br>Number of trials: 1/1 (1 PENDING)<br><table>\n",
       "<thead>\n",
       "<tr><th>Trial name                                      </th><th>status  </th><th>loc  </th></tr>\n",
       "</thead>\n",
       "<tbody>\n",
       "<tr><td>ImpalaTrainer_BreakoutNoFrameskip-v4_67ff1_00000</td><td>PENDING </td><td>     </td></tr>\n",
       "</tbody>\n",
       "</table><br><br>"
      ],
      "text/plain": [
       "<IPython.core.display.HTML object>"
      ]
     },
     "metadata": {},
     "output_type": "display_data"
    },
    {
     "data": {
      "text/html": [
       "== Status ==<br>Current time: 2022-04-03 22:39:55 (running for 00:00:45.13)<br>Memory usage on this node: 9.9/16.0 GiB<br>Using FIFO scheduling algorithm.<br>Resources requested: 0/12 CPUs, 0/0 GPUs, 0.0/4.8 GiB heap, 0.0/2.0 GiB objects<br>Result logdir: /Users/stanleyaraki/ray_results/ImpalaTrainer_2022-04-03_22-39-10<br>Number of trials: 1/1 (1 PENDING)<br><table>\n",
       "<thead>\n",
       "<tr><th>Trial name                                      </th><th>status  </th><th>loc  </th></tr>\n",
       "</thead>\n",
       "<tbody>\n",
       "<tr><td>ImpalaTrainer_BreakoutNoFrameskip-v4_67ff1_00000</td><td>PENDING </td><td>     </td></tr>\n",
       "</tbody>\n",
       "</table><br><br>"
      ],
      "text/plain": [
       "<IPython.core.display.HTML object>"
      ]
     },
     "metadata": {},
     "output_type": "display_data"
    },
    {
     "data": {
      "text/html": [
       "== Status ==<br>Current time: 2022-04-03 22:40:00 (running for 00:00:50.13)<br>Memory usage on this node: 9.9/16.0 GiB<br>Using FIFO scheduling algorithm.<br>Resources requested: 0/12 CPUs, 0/0 GPUs, 0.0/4.8 GiB heap, 0.0/2.0 GiB objects<br>Result logdir: /Users/stanleyaraki/ray_results/ImpalaTrainer_2022-04-03_22-39-10<br>Number of trials: 1/1 (1 PENDING)<br><table>\n",
       "<thead>\n",
       "<tr><th>Trial name                                      </th><th>status  </th><th>loc  </th></tr>\n",
       "</thead>\n",
       "<tbody>\n",
       "<tr><td>ImpalaTrainer_BreakoutNoFrameskip-v4_67ff1_00000</td><td>PENDING </td><td>     </td></tr>\n",
       "</tbody>\n",
       "</table><br><br>"
      ],
      "text/plain": [
       "<IPython.core.display.HTML object>"
      ]
     },
     "metadata": {},
     "output_type": "display_data"
    },
    {
     "data": {
      "text/html": [
       "== Status ==<br>Current time: 2022-04-03 22:40:05 (running for 00:00:55.13)<br>Memory usage on this node: 9.8/16.0 GiB<br>Using FIFO scheduling algorithm.<br>Resources requested: 0/12 CPUs, 0/0 GPUs, 0.0/4.8 GiB heap, 0.0/2.0 GiB objects<br>Result logdir: /Users/stanleyaraki/ray_results/ImpalaTrainer_2022-04-03_22-39-10<br>Number of trials: 1/1 (1 PENDING)<br><table>\n",
       "<thead>\n",
       "<tr><th>Trial name                                      </th><th>status  </th><th>loc  </th></tr>\n",
       "</thead>\n",
       "<tbody>\n",
       "<tr><td>ImpalaTrainer_BreakoutNoFrameskip-v4_67ff1_00000</td><td>PENDING </td><td>     </td></tr>\n",
       "</tbody>\n",
       "</table><br><br>"
      ],
      "text/plain": [
       "<IPython.core.display.HTML object>"
      ]
     },
     "metadata": {},
     "output_type": "display_data"
    },
    {
     "name": "stderr",
     "output_type": "stream",
     "text": [
      "2022-04-03 22:40:10,277\tWARNING insufficient_resources_manager.py:122 -- Ignore this message if the cluster is autoscaling. You asked for 8.0 cpu and 1.0 gpu per trial, but the cluster only has 12.0 cpu and 0 gpu. Stop the tuning job and adjust the resources requested per trial (possibly via `resources_per_trial` or via `num_workers` for rllib) and/or add more resources to your Ray runtime.\n"
     ]
    },
    {
     "data": {
      "text/html": [
       "== Status ==<br>Current time: 2022-04-03 22:40:10 (running for 00:01:00.13)<br>Memory usage on this node: 9.7/16.0 GiB<br>Using FIFO scheduling algorithm.<br>Resources requested: 0/12 CPUs, 0/0 GPUs, 0.0/4.8 GiB heap, 0.0/2.0 GiB objects<br>Result logdir: /Users/stanleyaraki/ray_results/ImpalaTrainer_2022-04-03_22-39-10<br>Number of trials: 1/1 (1 PENDING)<br><table>\n",
       "<thead>\n",
       "<tr><th>Trial name                                      </th><th>status  </th><th>loc  </th></tr>\n",
       "</thead>\n",
       "<tbody>\n",
       "<tr><td>ImpalaTrainer_BreakoutNoFrameskip-v4_67ff1_00000</td><td>PENDING </td><td>     </td></tr>\n",
       "</tbody>\n",
       "</table><br><br>"
      ],
      "text/plain": [
       "<IPython.core.display.HTML object>"
      ]
     },
     "metadata": {},
     "output_type": "display_data"
    },
    {
     "data": {
      "text/html": [
       "== Status ==<br>Current time: 2022-04-03 22:40:15 (running for 00:01:05.13)<br>Memory usage on this node: 9.7/16.0 GiB<br>Using FIFO scheduling algorithm.<br>Resources requested: 0/12 CPUs, 0/0 GPUs, 0.0/4.8 GiB heap, 0.0/2.0 GiB objects<br>Result logdir: /Users/stanleyaraki/ray_results/ImpalaTrainer_2022-04-03_22-39-10<br>Number of trials: 1/1 (1 PENDING)<br><table>\n",
       "<thead>\n",
       "<tr><th>Trial name                                      </th><th>status  </th><th>loc  </th></tr>\n",
       "</thead>\n",
       "<tbody>\n",
       "<tr><td>ImpalaTrainer_BreakoutNoFrameskip-v4_67ff1_00000</td><td>PENDING </td><td>     </td></tr>\n",
       "</tbody>\n",
       "</table><br><br>"
      ],
      "text/plain": [
       "<IPython.core.display.HTML object>"
      ]
     },
     "metadata": {},
     "output_type": "display_data"
    },
    {
     "data": {
      "text/html": [
       "== Status ==<br>Current time: 2022-04-03 22:40:20 (running for 00:01:10.13)<br>Memory usage on this node: 9.6/16.0 GiB<br>Using FIFO scheduling algorithm.<br>Resources requested: 0/12 CPUs, 0/0 GPUs, 0.0/4.8 GiB heap, 0.0/2.0 GiB objects<br>Result logdir: /Users/stanleyaraki/ray_results/ImpalaTrainer_2022-04-03_22-39-10<br>Number of trials: 1/1 (1 PENDING)<br><table>\n",
       "<thead>\n",
       "<tr><th>Trial name                                      </th><th>status  </th><th>loc  </th></tr>\n",
       "</thead>\n",
       "<tbody>\n",
       "<tr><td>ImpalaTrainer_BreakoutNoFrameskip-v4_67ff1_00000</td><td>PENDING </td><td>     </td></tr>\n",
       "</tbody>\n",
       "</table><br><br>"
      ],
      "text/plain": [
       "<IPython.core.display.HTML object>"
      ]
     },
     "metadata": {},
     "output_type": "display_data"
    },
    {
     "name": "stdout",
     "output_type": "stream",
     "text": [
      "\u001b[2m\u001b[1m\u001b[33m(scheduler +17m3s)\u001b[0m Error: No available node types can fulfill resource request {'CPU': 1.0, 'GPU': 1.0}. Add suitable node types to this cluster to resolve this issue.\n"
     ]
    },
    {
     "data": {
      "text/html": [
       "== Status ==<br>Current time: 2022-04-03 22:40:25 (running for 00:01:15.13)<br>Memory usage on this node: 9.6/16.0 GiB<br>Using FIFO scheduling algorithm.<br>Resources requested: 0/12 CPUs, 0/0 GPUs, 0.0/4.8 GiB heap, 0.0/2.0 GiB objects<br>Result logdir: /Users/stanleyaraki/ray_results/ImpalaTrainer_2022-04-03_22-39-10<br>Number of trials: 1/1 (1 PENDING)<br><table>\n",
       "<thead>\n",
       "<tr><th>Trial name                                      </th><th>status  </th><th>loc  </th></tr>\n",
       "</thead>\n",
       "<tbody>\n",
       "<tr><td>ImpalaTrainer_BreakoutNoFrameskip-v4_67ff1_00000</td><td>PENDING </td><td>     </td></tr>\n",
       "</tbody>\n",
       "</table><br><br>"
      ],
      "text/plain": [
       "<IPython.core.display.HTML object>"
      ]
     },
     "metadata": {},
     "output_type": "display_data"
    },
    {
     "data": {
      "text/html": [
       "== Status ==<br>Current time: 2022-04-03 22:40:30 (running for 00:01:20.14)<br>Memory usage on this node: 9.5/16.0 GiB<br>Using FIFO scheduling algorithm.<br>Resources requested: 0/12 CPUs, 0/0 GPUs, 0.0/4.8 GiB heap, 0.0/2.0 GiB objects<br>Result logdir: /Users/stanleyaraki/ray_results/ImpalaTrainer_2022-04-03_22-39-10<br>Number of trials: 1/1 (1 PENDING)<br><table>\n",
       "<thead>\n",
       "<tr><th>Trial name                                      </th><th>status  </th><th>loc  </th></tr>\n",
       "</thead>\n",
       "<tbody>\n",
       "<tr><td>ImpalaTrainer_BreakoutNoFrameskip-v4_67ff1_00000</td><td>PENDING </td><td>     </td></tr>\n",
       "</tbody>\n",
       "</table><br><br>"
      ],
      "text/plain": [
       "<IPython.core.display.HTML object>"
      ]
     },
     "metadata": {},
     "output_type": "display_data"
    },
    {
     "data": {
      "text/html": [
       "== Status ==<br>Current time: 2022-04-03 22:40:35 (running for 00:01:25.14)<br>Memory usage on this node: 9.5/16.0 GiB<br>Using FIFO scheduling algorithm.<br>Resources requested: 0/12 CPUs, 0/0 GPUs, 0.0/4.8 GiB heap, 0.0/2.0 GiB objects<br>Result logdir: /Users/stanleyaraki/ray_results/ImpalaTrainer_2022-04-03_22-39-10<br>Number of trials: 1/1 (1 PENDING)<br><table>\n",
       "<thead>\n",
       "<tr><th>Trial name                                      </th><th>status  </th><th>loc  </th></tr>\n",
       "</thead>\n",
       "<tbody>\n",
       "<tr><td>ImpalaTrainer_BreakoutNoFrameskip-v4_67ff1_00000</td><td>PENDING </td><td>     </td></tr>\n",
       "</tbody>\n",
       "</table><br><br>"
      ],
      "text/plain": [
       "<IPython.core.display.HTML object>"
      ]
     },
     "metadata": {},
     "output_type": "display_data"
    },
    {
     "data": {
      "text/html": [
       "== Status ==<br>Current time: 2022-04-03 22:40:40 (running for 00:01:30.14)<br>Memory usage on this node: 9.5/16.0 GiB<br>Using FIFO scheduling algorithm.<br>Resources requested: 0/12 CPUs, 0/0 GPUs, 0.0/4.8 GiB heap, 0.0/2.0 GiB objects<br>Result logdir: /Users/stanleyaraki/ray_results/ImpalaTrainer_2022-04-03_22-39-10<br>Number of trials: 1/1 (1 PENDING)<br><table>\n",
       "<thead>\n",
       "<tr><th>Trial name                                      </th><th>status  </th><th>loc  </th></tr>\n",
       "</thead>\n",
       "<tbody>\n",
       "<tr><td>ImpalaTrainer_BreakoutNoFrameskip-v4_67ff1_00000</td><td>PENDING </td><td>     </td></tr>\n",
       "</tbody>\n",
       "</table><br><br>"
      ],
      "text/plain": [
       "<IPython.core.display.HTML object>"
      ]
     },
     "metadata": {},
     "output_type": "display_data"
    },
    {
     "data": {
      "text/html": [
       "== Status ==<br>Current time: 2022-04-03 22:40:45 (running for 00:01:35.14)<br>Memory usage on this node: 9.5/16.0 GiB<br>Using FIFO scheduling algorithm.<br>Resources requested: 0/12 CPUs, 0/0 GPUs, 0.0/4.8 GiB heap, 0.0/2.0 GiB objects<br>Result logdir: /Users/stanleyaraki/ray_results/ImpalaTrainer_2022-04-03_22-39-10<br>Number of trials: 1/1 (1 PENDING)<br><table>\n",
       "<thead>\n",
       "<tr><th>Trial name                                      </th><th>status  </th><th>loc  </th></tr>\n",
       "</thead>\n",
       "<tbody>\n",
       "<tr><td>ImpalaTrainer_BreakoutNoFrameskip-v4_67ff1_00000</td><td>PENDING </td><td>     </td></tr>\n",
       "</tbody>\n",
       "</table><br><br>"
      ],
      "text/plain": [
       "<IPython.core.display.HTML object>"
      ]
     },
     "metadata": {},
     "output_type": "display_data"
    },
    {
     "data": {
      "text/html": [
       "== Status ==<br>Current time: 2022-04-03 22:40:50 (running for 00:01:40.14)<br>Memory usage on this node: 9.5/16.0 GiB<br>Using FIFO scheduling algorithm.<br>Resources requested: 0/12 CPUs, 0/0 GPUs, 0.0/4.8 GiB heap, 0.0/2.0 GiB objects<br>Result logdir: /Users/stanleyaraki/ray_results/ImpalaTrainer_2022-04-03_22-39-10<br>Number of trials: 1/1 (1 PENDING)<br><table>\n",
       "<thead>\n",
       "<tr><th>Trial name                                      </th><th>status  </th><th>loc  </th></tr>\n",
       "</thead>\n",
       "<tbody>\n",
       "<tr><td>ImpalaTrainer_BreakoutNoFrameskip-v4_67ff1_00000</td><td>PENDING </td><td>     </td></tr>\n",
       "</tbody>\n",
       "</table><br><br>"
      ],
      "text/plain": [
       "<IPython.core.display.HTML object>"
      ]
     },
     "metadata": {},
     "output_type": "display_data"
    },
    {
     "data": {
      "text/html": [
       "== Status ==<br>Current time: 2022-04-03 22:40:55 (running for 00:01:45.14)<br>Memory usage on this node: 9.5/16.0 GiB<br>Using FIFO scheduling algorithm.<br>Resources requested: 0/12 CPUs, 0/0 GPUs, 0.0/4.8 GiB heap, 0.0/2.0 GiB objects<br>Result logdir: /Users/stanleyaraki/ray_results/ImpalaTrainer_2022-04-03_22-39-10<br>Number of trials: 1/1 (1 PENDING)<br><table>\n",
       "<thead>\n",
       "<tr><th>Trial name                                      </th><th>status  </th><th>loc  </th></tr>\n",
       "</thead>\n",
       "<tbody>\n",
       "<tr><td>ImpalaTrainer_BreakoutNoFrameskip-v4_67ff1_00000</td><td>PENDING </td><td>     </td></tr>\n",
       "</tbody>\n",
       "</table><br><br>"
      ],
      "text/plain": [
       "<IPython.core.display.HTML object>"
      ]
     },
     "metadata": {},
     "output_type": "display_data"
    },
    {
     "name": "stdout",
     "output_type": "stream",
     "text": [
      "\u001b[2m\u001b[1m\u001b[33m(scheduler +17m38s)\u001b[0m Error: No available node types can fulfill resource request {'GPU': 1.0, 'CPU': 1.0}. Add suitable node types to this cluster to resolve this issue.\n"
     ]
    },
    {
     "data": {
      "text/html": [
       "== Status ==<br>Current time: 2022-04-03 22:41:00 (running for 00:01:50.14)<br>Memory usage on this node: 9.5/16.0 GiB<br>Using FIFO scheduling algorithm.<br>Resources requested: 0/12 CPUs, 0/0 GPUs, 0.0/4.8 GiB heap, 0.0/2.0 GiB objects<br>Result logdir: /Users/stanleyaraki/ray_results/ImpalaTrainer_2022-04-03_22-39-10<br>Number of trials: 1/1 (1 PENDING)<br><table>\n",
       "<thead>\n",
       "<tr><th>Trial name                                      </th><th>status  </th><th>loc  </th></tr>\n",
       "</thead>\n",
       "<tbody>\n",
       "<tr><td>ImpalaTrainer_BreakoutNoFrameskip-v4_67ff1_00000</td><td>PENDING </td><td>     </td></tr>\n",
       "</tbody>\n",
       "</table><br><br>"
      ],
      "text/plain": [
       "<IPython.core.display.HTML object>"
      ]
     },
     "metadata": {},
     "output_type": "display_data"
    },
    {
     "data": {
      "text/html": [
       "== Status ==<br>Current time: 2022-04-03 22:41:05 (running for 00:01:55.14)<br>Memory usage on this node: 9.6/16.0 GiB<br>Using FIFO scheduling algorithm.<br>Resources requested: 0/12 CPUs, 0/0 GPUs, 0.0/4.8 GiB heap, 0.0/2.0 GiB objects<br>Result logdir: /Users/stanleyaraki/ray_results/ImpalaTrainer_2022-04-03_22-39-10<br>Number of trials: 1/1 (1 PENDING)<br><table>\n",
       "<thead>\n",
       "<tr><th>Trial name                                      </th><th>status  </th><th>loc  </th></tr>\n",
       "</thead>\n",
       "<tbody>\n",
       "<tr><td>ImpalaTrainer_BreakoutNoFrameskip-v4_67ff1_00000</td><td>PENDING </td><td>     </td></tr>\n",
       "</tbody>\n",
       "</table><br><br>"
      ],
      "text/plain": [
       "<IPython.core.display.HTML object>"
      ]
     },
     "metadata": {},
     "output_type": "display_data"
    },
    {
     "name": "stderr",
     "output_type": "stream",
     "text": [
      "2022-04-03 22:41:10,278\tWARNING insufficient_resources_manager.py:122 -- Ignore this message if the cluster is autoscaling. You asked for 8.0 cpu and 1.0 gpu per trial, but the cluster only has 12.0 cpu and 0 gpu. Stop the tuning job and adjust the resources requested per trial (possibly via `resources_per_trial` or via `num_workers` for rllib) and/or add more resources to your Ray runtime.\n"
     ]
    },
    {
     "data": {
      "text/html": [
       "== Status ==<br>Current time: 2022-04-03 22:41:10 (running for 00:02:00.14)<br>Memory usage on this node: 9.5/16.0 GiB<br>Using FIFO scheduling algorithm.<br>Resources requested: 0/12 CPUs, 0/0 GPUs, 0.0/4.8 GiB heap, 0.0/2.0 GiB objects<br>Result logdir: /Users/stanleyaraki/ray_results/ImpalaTrainer_2022-04-03_22-39-10<br>Number of trials: 1/1 (1 PENDING)<br><table>\n",
       "<thead>\n",
       "<tr><th>Trial name                                      </th><th>status  </th><th>loc  </th></tr>\n",
       "</thead>\n",
       "<tbody>\n",
       "<tr><td>ImpalaTrainer_BreakoutNoFrameskip-v4_67ff1_00000</td><td>PENDING </td><td>     </td></tr>\n",
       "</tbody>\n",
       "</table><br><br>"
      ],
      "text/plain": [
       "<IPython.core.display.HTML object>"
      ]
     },
     "metadata": {},
     "output_type": "display_data"
    },
    {
     "data": {
      "text/html": [
       "== Status ==<br>Current time: 2022-04-03 22:41:15 (running for 00:02:05.14)<br>Memory usage on this node: 9.5/16.0 GiB<br>Using FIFO scheduling algorithm.<br>Resources requested: 0/12 CPUs, 0/0 GPUs, 0.0/4.8 GiB heap, 0.0/2.0 GiB objects<br>Result logdir: /Users/stanleyaraki/ray_results/ImpalaTrainer_2022-04-03_22-39-10<br>Number of trials: 1/1 (1 PENDING)<br><table>\n",
       "<thead>\n",
       "<tr><th>Trial name                                      </th><th>status  </th><th>loc  </th></tr>\n",
       "</thead>\n",
       "<tbody>\n",
       "<tr><td>ImpalaTrainer_BreakoutNoFrameskip-v4_67ff1_00000</td><td>PENDING </td><td>     </td></tr>\n",
       "</tbody>\n",
       "</table><br><br>"
      ],
      "text/plain": [
       "<IPython.core.display.HTML object>"
      ]
     },
     "metadata": {},
     "output_type": "display_data"
    },
    {
     "data": {
      "text/html": [
       "== Status ==<br>Current time: 2022-04-03 22:41:20 (running for 00:02:10.14)<br>Memory usage on this node: 9.5/16.0 GiB<br>Using FIFO scheduling algorithm.<br>Resources requested: 0/12 CPUs, 0/0 GPUs, 0.0/4.8 GiB heap, 0.0/2.0 GiB objects<br>Result logdir: /Users/stanleyaraki/ray_results/ImpalaTrainer_2022-04-03_22-39-10<br>Number of trials: 1/1 (1 PENDING)<br><table>\n",
       "<thead>\n",
       "<tr><th>Trial name                                      </th><th>status  </th><th>loc  </th></tr>\n",
       "</thead>\n",
       "<tbody>\n",
       "<tr><td>ImpalaTrainer_BreakoutNoFrameskip-v4_67ff1_00000</td><td>PENDING </td><td>     </td></tr>\n",
       "</tbody>\n",
       "</table><br><br>"
      ],
      "text/plain": [
       "<IPython.core.display.HTML object>"
      ]
     },
     "metadata": {},
     "output_type": "display_data"
    },
    {
     "data": {
      "text/html": [
       "== Status ==<br>Current time: 2022-04-03 22:41:25 (running for 00:02:15.14)<br>Memory usage on this node: 9.5/16.0 GiB<br>Using FIFO scheduling algorithm.<br>Resources requested: 0/12 CPUs, 0/0 GPUs, 0.0/4.8 GiB heap, 0.0/2.0 GiB objects<br>Result logdir: /Users/stanleyaraki/ray_results/ImpalaTrainer_2022-04-03_22-39-10<br>Number of trials: 1/1 (1 PENDING)<br><table>\n",
       "<thead>\n",
       "<tr><th>Trial name                                      </th><th>status  </th><th>loc  </th></tr>\n",
       "</thead>\n",
       "<tbody>\n",
       "<tr><td>ImpalaTrainer_BreakoutNoFrameskip-v4_67ff1_00000</td><td>PENDING </td><td>     </td></tr>\n",
       "</tbody>\n",
       "</table><br><br>"
      ],
      "text/plain": [
       "<IPython.core.display.HTML object>"
      ]
     },
     "metadata": {},
     "output_type": "display_data"
    },
    {
     "data": {
      "text/html": [
       "== Status ==<br>Current time: 2022-04-03 22:41:30 (running for 00:02:20.15)<br>Memory usage on this node: 9.5/16.0 GiB<br>Using FIFO scheduling algorithm.<br>Resources requested: 0/12 CPUs, 0/0 GPUs, 0.0/4.8 GiB heap, 0.0/2.0 GiB objects<br>Result logdir: /Users/stanleyaraki/ray_results/ImpalaTrainer_2022-04-03_22-39-10<br>Number of trials: 1/1 (1 PENDING)<br><table>\n",
       "<thead>\n",
       "<tr><th>Trial name                                      </th><th>status  </th><th>loc  </th></tr>\n",
       "</thead>\n",
       "<tbody>\n",
       "<tr><td>ImpalaTrainer_BreakoutNoFrameskip-v4_67ff1_00000</td><td>PENDING </td><td>     </td></tr>\n",
       "</tbody>\n",
       "</table><br><br>"
      ],
      "text/plain": [
       "<IPython.core.display.HTML object>"
      ]
     },
     "metadata": {},
     "output_type": "display_data"
    },
    {
     "name": "stdout",
     "output_type": "stream",
     "text": [
      "\u001b[2m\u001b[1m\u001b[33m(scheduler +18m13s)\u001b[0m Error: No available node types can fulfill resource request {'CPU': 1.0, 'GPU': 1.0}. Add suitable node types to this cluster to resolve this issue.\n"
     ]
    },
    {
     "data": {
      "text/html": [
       "== Status ==<br>Current time: 2022-04-03 22:41:35 (running for 00:02:25.15)<br>Memory usage on this node: 9.5/16.0 GiB<br>Using FIFO scheduling algorithm.<br>Resources requested: 0/12 CPUs, 0/0 GPUs, 0.0/4.8 GiB heap, 0.0/2.0 GiB objects<br>Result logdir: /Users/stanleyaraki/ray_results/ImpalaTrainer_2022-04-03_22-39-10<br>Number of trials: 1/1 (1 PENDING)<br><table>\n",
       "<thead>\n",
       "<tr><th>Trial name                                      </th><th>status  </th><th>loc  </th></tr>\n",
       "</thead>\n",
       "<tbody>\n",
       "<tr><td>ImpalaTrainer_BreakoutNoFrameskip-v4_67ff1_00000</td><td>PENDING </td><td>     </td></tr>\n",
       "</tbody>\n",
       "</table><br><br>"
      ],
      "text/plain": [
       "<IPython.core.display.HTML object>"
      ]
     },
     "metadata": {},
     "output_type": "display_data"
    },
    {
     "data": {
      "text/html": [
       "== Status ==<br>Current time: 2022-04-03 22:41:40 (running for 00:02:30.15)<br>Memory usage on this node: 9.5/16.0 GiB<br>Using FIFO scheduling algorithm.<br>Resources requested: 0/12 CPUs, 0/0 GPUs, 0.0/4.8 GiB heap, 0.0/2.0 GiB objects<br>Result logdir: /Users/stanleyaraki/ray_results/ImpalaTrainer_2022-04-03_22-39-10<br>Number of trials: 1/1 (1 PENDING)<br><table>\n",
       "<thead>\n",
       "<tr><th>Trial name                                      </th><th>status  </th><th>loc  </th></tr>\n",
       "</thead>\n",
       "<tbody>\n",
       "<tr><td>ImpalaTrainer_BreakoutNoFrameskip-v4_67ff1_00000</td><td>PENDING </td><td>     </td></tr>\n",
       "</tbody>\n",
       "</table><br><br>"
      ],
      "text/plain": [
       "<IPython.core.display.HTML object>"
      ]
     },
     "metadata": {},
     "output_type": "display_data"
    },
    {
     "data": {
      "text/html": [
       "== Status ==<br>Current time: 2022-04-03 22:41:45 (running for 00:02:35.15)<br>Memory usage on this node: 9.8/16.0 GiB<br>Using FIFO scheduling algorithm.<br>Resources requested: 0/12 CPUs, 0/0 GPUs, 0.0/4.8 GiB heap, 0.0/2.0 GiB objects<br>Result logdir: /Users/stanleyaraki/ray_results/ImpalaTrainer_2022-04-03_22-39-10<br>Number of trials: 1/1 (1 PENDING)<br><table>\n",
       "<thead>\n",
       "<tr><th>Trial name                                      </th><th>status  </th><th>loc  </th></tr>\n",
       "</thead>\n",
       "<tbody>\n",
       "<tr><td>ImpalaTrainer_BreakoutNoFrameskip-v4_67ff1_00000</td><td>PENDING </td><td>     </td></tr>\n",
       "</tbody>\n",
       "</table><br><br>"
      ],
      "text/plain": [
       "<IPython.core.display.HTML object>"
      ]
     },
     "metadata": {},
     "output_type": "display_data"
    },
    {
     "data": {
      "text/html": [
       "== Status ==<br>Current time: 2022-04-03 22:41:50 (running for 00:02:40.15)<br>Memory usage on this node: 10.1/16.0 GiB<br>Using FIFO scheduling algorithm.<br>Resources requested: 0/12 CPUs, 0/0 GPUs, 0.0/4.8 GiB heap, 0.0/2.0 GiB objects<br>Result logdir: /Users/stanleyaraki/ray_results/ImpalaTrainer_2022-04-03_22-39-10<br>Number of trials: 1/1 (1 PENDING)<br><table>\n",
       "<thead>\n",
       "<tr><th>Trial name                                      </th><th>status  </th><th>loc  </th></tr>\n",
       "</thead>\n",
       "<tbody>\n",
       "<tr><td>ImpalaTrainer_BreakoutNoFrameskip-v4_67ff1_00000</td><td>PENDING </td><td>     </td></tr>\n",
       "</tbody>\n",
       "</table><br><br>"
      ],
      "text/plain": [
       "<IPython.core.display.HTML object>"
      ]
     },
     "metadata": {},
     "output_type": "display_data"
    },
    {
     "data": {
      "text/html": [
       "== Status ==<br>Current time: 2022-04-03 22:41:55 (running for 00:02:45.15)<br>Memory usage on this node: 9.8/16.0 GiB<br>Using FIFO scheduling algorithm.<br>Resources requested: 0/12 CPUs, 0/0 GPUs, 0.0/4.8 GiB heap, 0.0/2.0 GiB objects<br>Result logdir: /Users/stanleyaraki/ray_results/ImpalaTrainer_2022-04-03_22-39-10<br>Number of trials: 1/1 (1 PENDING)<br><table>\n",
       "<thead>\n",
       "<tr><th>Trial name                                      </th><th>status  </th><th>loc  </th></tr>\n",
       "</thead>\n",
       "<tbody>\n",
       "<tr><td>ImpalaTrainer_BreakoutNoFrameskip-v4_67ff1_00000</td><td>PENDING </td><td>     </td></tr>\n",
       "</tbody>\n",
       "</table><br><br>"
      ],
      "text/plain": [
       "<IPython.core.display.HTML object>"
      ]
     },
     "metadata": {},
     "output_type": "display_data"
    },
    {
     "data": {
      "text/html": [
       "== Status ==<br>Current time: 2022-04-03 22:42:00 (running for 00:02:50.16)<br>Memory usage on this node: 9.9/16.0 GiB<br>Using FIFO scheduling algorithm.<br>Resources requested: 0/12 CPUs, 0/0 GPUs, 0.0/4.8 GiB heap, 0.0/2.0 GiB objects<br>Result logdir: /Users/stanleyaraki/ray_results/ImpalaTrainer_2022-04-03_22-39-10<br>Number of trials: 1/1 (1 PENDING)<br><table>\n",
       "<thead>\n",
       "<tr><th>Trial name                                      </th><th>status  </th><th>loc  </th></tr>\n",
       "</thead>\n",
       "<tbody>\n",
       "<tr><td>ImpalaTrainer_BreakoutNoFrameskip-v4_67ff1_00000</td><td>PENDING </td><td>     </td></tr>\n",
       "</tbody>\n",
       "</table><br><br>"
      ],
      "text/plain": [
       "<IPython.core.display.HTML object>"
      ]
     },
     "metadata": {},
     "output_type": "display_data"
    },
    {
     "data": {
      "text/html": [
       "== Status ==<br>Current time: 2022-04-03 22:42:05 (running for 00:02:55.16)<br>Memory usage on this node: 10.0/16.0 GiB<br>Using FIFO scheduling algorithm.<br>Resources requested: 0/12 CPUs, 0/0 GPUs, 0.0/4.8 GiB heap, 0.0/2.0 GiB objects<br>Result logdir: /Users/stanleyaraki/ray_results/ImpalaTrainer_2022-04-03_22-39-10<br>Number of trials: 1/1 (1 PENDING)<br><table>\n",
       "<thead>\n",
       "<tr><th>Trial name                                      </th><th>status  </th><th>loc  </th></tr>\n",
       "</thead>\n",
       "<tbody>\n",
       "<tr><td>ImpalaTrainer_BreakoutNoFrameskip-v4_67ff1_00000</td><td>PENDING </td><td>     </td></tr>\n",
       "</tbody>\n",
       "</table><br><br>"
      ],
      "text/plain": [
       "<IPython.core.display.HTML object>"
      ]
     },
     "metadata": {},
     "output_type": "display_data"
    },
    {
     "name": "stdout",
     "output_type": "stream",
     "text": [
      "\u001b[2m\u001b[1m\u001b[33m(scheduler +18m48s)\u001b[0m Error: No available node types can fulfill resource request {'CPU': 1.0, 'GPU': 1.0}. Add suitable node types to this cluster to resolve this issue.\n"
     ]
    },
    {
     "name": "stderr",
     "output_type": "stream",
     "text": [
      "2022-04-03 22:42:10,279\tWARNING insufficient_resources_manager.py:122 -- Ignore this message if the cluster is autoscaling. You asked for 8.0 cpu and 1.0 gpu per trial, but the cluster only has 12.0 cpu and 0 gpu. Stop the tuning job and adjust the resources requested per trial (possibly via `resources_per_trial` or via `num_workers` for rllib) and/or add more resources to your Ray runtime.\n"
     ]
    },
    {
     "data": {
      "text/html": [
       "== Status ==<br>Current time: 2022-04-03 22:42:10 (running for 00:03:00.16)<br>Memory usage on this node: 9.9/16.0 GiB<br>Using FIFO scheduling algorithm.<br>Resources requested: 0/12 CPUs, 0/0 GPUs, 0.0/4.8 GiB heap, 0.0/2.0 GiB objects<br>Result logdir: /Users/stanleyaraki/ray_results/ImpalaTrainer_2022-04-03_22-39-10<br>Number of trials: 1/1 (1 PENDING)<br><table>\n",
       "<thead>\n",
       "<tr><th>Trial name                                      </th><th>status  </th><th>loc  </th></tr>\n",
       "</thead>\n",
       "<tbody>\n",
       "<tr><td>ImpalaTrainer_BreakoutNoFrameskip-v4_67ff1_00000</td><td>PENDING </td><td>     </td></tr>\n",
       "</tbody>\n",
       "</table><br><br>"
      ],
      "text/plain": [
       "<IPython.core.display.HTML object>"
      ]
     },
     "metadata": {},
     "output_type": "display_data"
    },
    {
     "data": {
      "text/html": [
       "== Status ==<br>Current time: 2022-04-03 22:42:15 (running for 00:03:05.16)<br>Memory usage on this node: 9.9/16.0 GiB<br>Using FIFO scheduling algorithm.<br>Resources requested: 0/12 CPUs, 0/0 GPUs, 0.0/4.8 GiB heap, 0.0/2.0 GiB objects<br>Result logdir: /Users/stanleyaraki/ray_results/ImpalaTrainer_2022-04-03_22-39-10<br>Number of trials: 1/1 (1 PENDING)<br><table>\n",
       "<thead>\n",
       "<tr><th>Trial name                                      </th><th>status  </th><th>loc  </th></tr>\n",
       "</thead>\n",
       "<tbody>\n",
       "<tr><td>ImpalaTrainer_BreakoutNoFrameskip-v4_67ff1_00000</td><td>PENDING </td><td>     </td></tr>\n",
       "</tbody>\n",
       "</table><br><br>"
      ],
      "text/plain": [
       "<IPython.core.display.HTML object>"
      ]
     },
     "metadata": {},
     "output_type": "display_data"
    },
    {
     "data": {
      "text/html": [
       "== Status ==<br>Current time: 2022-04-03 22:42:20 (running for 00:03:10.16)<br>Memory usage on this node: 9.9/16.0 GiB<br>Using FIFO scheduling algorithm.<br>Resources requested: 0/12 CPUs, 0/0 GPUs, 0.0/4.8 GiB heap, 0.0/2.0 GiB objects<br>Result logdir: /Users/stanleyaraki/ray_results/ImpalaTrainer_2022-04-03_22-39-10<br>Number of trials: 1/1 (1 PENDING)<br><table>\n",
       "<thead>\n",
       "<tr><th>Trial name                                      </th><th>status  </th><th>loc  </th></tr>\n",
       "</thead>\n",
       "<tbody>\n",
       "<tr><td>ImpalaTrainer_BreakoutNoFrameskip-v4_67ff1_00000</td><td>PENDING </td><td>     </td></tr>\n",
       "</tbody>\n",
       "</table><br><br>"
      ],
      "text/plain": [
       "<IPython.core.display.HTML object>"
      ]
     },
     "metadata": {},
     "output_type": "display_data"
    },
    {
     "data": {
      "text/html": [
       "== Status ==<br>Current time: 2022-04-03 22:42:25 (running for 00:03:15.16)<br>Memory usage on this node: 10.0/16.0 GiB<br>Using FIFO scheduling algorithm.<br>Resources requested: 0/12 CPUs, 0/0 GPUs, 0.0/4.8 GiB heap, 0.0/2.0 GiB objects<br>Result logdir: /Users/stanleyaraki/ray_results/ImpalaTrainer_2022-04-03_22-39-10<br>Number of trials: 1/1 (1 PENDING)<br><table>\n",
       "<thead>\n",
       "<tr><th>Trial name                                      </th><th>status  </th><th>loc  </th></tr>\n",
       "</thead>\n",
       "<tbody>\n",
       "<tr><td>ImpalaTrainer_BreakoutNoFrameskip-v4_67ff1_00000</td><td>PENDING </td><td>     </td></tr>\n",
       "</tbody>\n",
       "</table><br><br>"
      ],
      "text/plain": [
       "<IPython.core.display.HTML object>"
      ]
     },
     "metadata": {},
     "output_type": "display_data"
    },
    {
     "data": {
      "text/html": [
       "== Status ==<br>Current time: 2022-04-03 22:42:30 (running for 00:03:20.16)<br>Memory usage on this node: 9.7/16.0 GiB<br>Using FIFO scheduling algorithm.<br>Resources requested: 0/12 CPUs, 0/0 GPUs, 0.0/4.8 GiB heap, 0.0/2.0 GiB objects<br>Result logdir: /Users/stanleyaraki/ray_results/ImpalaTrainer_2022-04-03_22-39-10<br>Number of trials: 1/1 (1 PENDING)<br><table>\n",
       "<thead>\n",
       "<tr><th>Trial name                                      </th><th>status  </th><th>loc  </th></tr>\n",
       "</thead>\n",
       "<tbody>\n",
       "<tr><td>ImpalaTrainer_BreakoutNoFrameskip-v4_67ff1_00000</td><td>PENDING </td><td>     </td></tr>\n",
       "</tbody>\n",
       "</table><br><br>"
      ],
      "text/plain": [
       "<IPython.core.display.HTML object>"
      ]
     },
     "metadata": {},
     "output_type": "display_data"
    },
    {
     "data": {
      "text/html": [
       "== Status ==<br>Current time: 2022-04-03 22:42:35 (running for 00:03:25.16)<br>Memory usage on this node: 9.9/16.0 GiB<br>Using FIFO scheduling algorithm.<br>Resources requested: 0/12 CPUs, 0/0 GPUs, 0.0/4.8 GiB heap, 0.0/2.0 GiB objects<br>Result logdir: /Users/stanleyaraki/ray_results/ImpalaTrainer_2022-04-03_22-39-10<br>Number of trials: 1/1 (1 PENDING)<br><table>\n",
       "<thead>\n",
       "<tr><th>Trial name                                      </th><th>status  </th><th>loc  </th></tr>\n",
       "</thead>\n",
       "<tbody>\n",
       "<tr><td>ImpalaTrainer_BreakoutNoFrameskip-v4_67ff1_00000</td><td>PENDING </td><td>     </td></tr>\n",
       "</tbody>\n",
       "</table><br><br>"
      ],
      "text/plain": [
       "<IPython.core.display.HTML object>"
      ]
     },
     "metadata": {},
     "output_type": "display_data"
    },
    {
     "data": {
      "text/html": [
       "== Status ==<br>Current time: 2022-04-03 22:42:40 (running for 00:03:30.17)<br>Memory usage on this node: 9.9/16.0 GiB<br>Using FIFO scheduling algorithm.<br>Resources requested: 0/12 CPUs, 0/0 GPUs, 0.0/4.8 GiB heap, 0.0/2.0 GiB objects<br>Result logdir: /Users/stanleyaraki/ray_results/ImpalaTrainer_2022-04-03_22-39-10<br>Number of trials: 1/1 (1 PENDING)<br><table>\n",
       "<thead>\n",
       "<tr><th>Trial name                                      </th><th>status  </th><th>loc  </th></tr>\n",
       "</thead>\n",
       "<tbody>\n",
       "<tr><td>ImpalaTrainer_BreakoutNoFrameskip-v4_67ff1_00000</td><td>PENDING </td><td>     </td></tr>\n",
       "</tbody>\n",
       "</table><br><br>"
      ],
      "text/plain": [
       "<IPython.core.display.HTML object>"
      ]
     },
     "metadata": {},
     "output_type": "display_data"
    },
    {
     "name": "stdout",
     "output_type": "stream",
     "text": [
      "\u001b[2m\u001b[1m\u001b[33m(scheduler +19m23s)\u001b[0m Error: No available node types can fulfill resource request {'CPU': 1.0, 'GPU': 1.0}. Add suitable node types to this cluster to resolve this issue.\n"
     ]
    },
    {
     "data": {
      "text/html": [
       "== Status ==<br>Current time: 2022-04-03 22:42:45 (running for 00:03:35.17)<br>Memory usage on this node: 9.7/16.0 GiB<br>Using FIFO scheduling algorithm.<br>Resources requested: 0/12 CPUs, 0/0 GPUs, 0.0/4.8 GiB heap, 0.0/2.0 GiB objects<br>Result logdir: /Users/stanleyaraki/ray_results/ImpalaTrainer_2022-04-03_22-39-10<br>Number of trials: 1/1 (1 PENDING)<br><table>\n",
       "<thead>\n",
       "<tr><th>Trial name                                      </th><th>status  </th><th>loc  </th></tr>\n",
       "</thead>\n",
       "<tbody>\n",
       "<tr><td>ImpalaTrainer_BreakoutNoFrameskip-v4_67ff1_00000</td><td>PENDING </td><td>     </td></tr>\n",
       "</tbody>\n",
       "</table><br><br>"
      ],
      "text/plain": [
       "<IPython.core.display.HTML object>"
      ]
     },
     "metadata": {},
     "output_type": "display_data"
    },
    {
     "data": {
      "text/html": [
       "== Status ==<br>Current time: 2022-04-03 22:42:50 (running for 00:03:40.17)<br>Memory usage on this node: 9.9/16.0 GiB<br>Using FIFO scheduling algorithm.<br>Resources requested: 0/12 CPUs, 0/0 GPUs, 0.0/4.8 GiB heap, 0.0/2.0 GiB objects<br>Result logdir: /Users/stanleyaraki/ray_results/ImpalaTrainer_2022-04-03_22-39-10<br>Number of trials: 1/1 (1 PENDING)<br><table>\n",
       "<thead>\n",
       "<tr><th>Trial name                                      </th><th>status  </th><th>loc  </th></tr>\n",
       "</thead>\n",
       "<tbody>\n",
       "<tr><td>ImpalaTrainer_BreakoutNoFrameskip-v4_67ff1_00000</td><td>PENDING </td><td>     </td></tr>\n",
       "</tbody>\n",
       "</table><br><br>"
      ],
      "text/plain": [
       "<IPython.core.display.HTML object>"
      ]
     },
     "metadata": {},
     "output_type": "display_data"
    },
    {
     "data": {
      "text/html": [
       "== Status ==<br>Current time: 2022-04-03 22:42:55 (running for 00:03:45.17)<br>Memory usage on this node: 9.9/16.0 GiB<br>Using FIFO scheduling algorithm.<br>Resources requested: 0/12 CPUs, 0/0 GPUs, 0.0/4.8 GiB heap, 0.0/2.0 GiB objects<br>Result logdir: /Users/stanleyaraki/ray_results/ImpalaTrainer_2022-04-03_22-39-10<br>Number of trials: 1/1 (1 PENDING)<br><table>\n",
       "<thead>\n",
       "<tr><th>Trial name                                      </th><th>status  </th><th>loc  </th></tr>\n",
       "</thead>\n",
       "<tbody>\n",
       "<tr><td>ImpalaTrainer_BreakoutNoFrameskip-v4_67ff1_00000</td><td>PENDING </td><td>     </td></tr>\n",
       "</tbody>\n",
       "</table><br><br>"
      ],
      "text/plain": [
       "<IPython.core.display.HTML object>"
      ]
     },
     "metadata": {},
     "output_type": "display_data"
    },
    {
     "data": {
      "text/html": [
       "== Status ==<br>Current time: 2022-04-03 22:43:00 (running for 00:03:50.17)<br>Memory usage on this node: 10.1/16.0 GiB<br>Using FIFO scheduling algorithm.<br>Resources requested: 0/12 CPUs, 0/0 GPUs, 0.0/4.8 GiB heap, 0.0/2.0 GiB objects<br>Result logdir: /Users/stanleyaraki/ray_results/ImpalaTrainer_2022-04-03_22-39-10<br>Number of trials: 1/1 (1 PENDING)<br><table>\n",
       "<thead>\n",
       "<tr><th>Trial name                                      </th><th>status  </th><th>loc  </th></tr>\n",
       "</thead>\n",
       "<tbody>\n",
       "<tr><td>ImpalaTrainer_BreakoutNoFrameskip-v4_67ff1_00000</td><td>PENDING </td><td>     </td></tr>\n",
       "</tbody>\n",
       "</table><br><br>"
      ],
      "text/plain": [
       "<IPython.core.display.HTML object>"
      ]
     },
     "metadata": {},
     "output_type": "display_data"
    },
    {
     "data": {
      "text/html": [
       "== Status ==<br>Current time: 2022-04-03 22:43:05 (running for 00:03:55.17)<br>Memory usage on this node: 9.9/16.0 GiB<br>Using FIFO scheduling algorithm.<br>Resources requested: 0/12 CPUs, 0/0 GPUs, 0.0/4.8 GiB heap, 0.0/2.0 GiB objects<br>Result logdir: /Users/stanleyaraki/ray_results/ImpalaTrainer_2022-04-03_22-39-10<br>Number of trials: 1/1 (1 PENDING)<br><table>\n",
       "<thead>\n",
       "<tr><th>Trial name                                      </th><th>status  </th><th>loc  </th></tr>\n",
       "</thead>\n",
       "<tbody>\n",
       "<tr><td>ImpalaTrainer_BreakoutNoFrameskip-v4_67ff1_00000</td><td>PENDING </td><td>     </td></tr>\n",
       "</tbody>\n",
       "</table><br><br>"
      ],
      "text/plain": [
       "<IPython.core.display.HTML object>"
      ]
     },
     "metadata": {},
     "output_type": "display_data"
    },
    {
     "name": "stderr",
     "output_type": "stream",
     "text": [
      "2022-04-03 22:43:10,279\tWARNING insufficient_resources_manager.py:122 -- Ignore this message if the cluster is autoscaling. You asked for 8.0 cpu and 1.0 gpu per trial, but the cluster only has 12.0 cpu and 0 gpu. Stop the tuning job and adjust the resources requested per trial (possibly via `resources_per_trial` or via `num_workers` for rllib) and/or add more resources to your Ray runtime.\n"
     ]
    },
    {
     "data": {
      "text/html": [
       "== Status ==<br>Current time: 2022-04-03 22:43:10 (running for 00:04:00.17)<br>Memory usage on this node: 9.9/16.0 GiB<br>Using FIFO scheduling algorithm.<br>Resources requested: 0/12 CPUs, 0/0 GPUs, 0.0/4.8 GiB heap, 0.0/2.0 GiB objects<br>Result logdir: /Users/stanleyaraki/ray_results/ImpalaTrainer_2022-04-03_22-39-10<br>Number of trials: 1/1 (1 PENDING)<br><table>\n",
       "<thead>\n",
       "<tr><th>Trial name                                      </th><th>status  </th><th>loc  </th></tr>\n",
       "</thead>\n",
       "<tbody>\n",
       "<tr><td>ImpalaTrainer_BreakoutNoFrameskip-v4_67ff1_00000</td><td>PENDING </td><td>     </td></tr>\n",
       "</tbody>\n",
       "</table><br><br>"
      ],
      "text/plain": [
       "<IPython.core.display.HTML object>"
      ]
     },
     "metadata": {},
     "output_type": "display_data"
    },
    {
     "data": {
      "text/html": [
       "== Status ==<br>Current time: 2022-04-03 22:43:15 (running for 00:04:05.17)<br>Memory usage on this node: 9.9/16.0 GiB<br>Using FIFO scheduling algorithm.<br>Resources requested: 0/12 CPUs, 0/0 GPUs, 0.0/4.8 GiB heap, 0.0/2.0 GiB objects<br>Result logdir: /Users/stanleyaraki/ray_results/ImpalaTrainer_2022-04-03_22-39-10<br>Number of trials: 1/1 (1 PENDING)<br><table>\n",
       "<thead>\n",
       "<tr><th>Trial name                                      </th><th>status  </th><th>loc  </th></tr>\n",
       "</thead>\n",
       "<tbody>\n",
       "<tr><td>ImpalaTrainer_BreakoutNoFrameskip-v4_67ff1_00000</td><td>PENDING </td><td>     </td></tr>\n",
       "</tbody>\n",
       "</table><br><br>"
      ],
      "text/plain": [
       "<IPython.core.display.HTML object>"
      ]
     },
     "metadata": {},
     "output_type": "display_data"
    },
    {
     "name": "stdout",
     "output_type": "stream",
     "text": [
      "\u001b[2m\u001b[1m\u001b[33m(scheduler +19m58s)\u001b[0m Error: No available node types can fulfill resource request {'CPU': 1.0, 'GPU': 1.0}. Add suitable node types to this cluster to resolve this issue.\n"
     ]
    },
    {
     "data": {
      "text/html": [
       "== Status ==<br>Current time: 2022-04-03 22:43:20 (running for 00:04:10.17)<br>Memory usage on this node: 9.9/16.0 GiB<br>Using FIFO scheduling algorithm.<br>Resources requested: 0/12 CPUs, 0/0 GPUs, 0.0/4.8 GiB heap, 0.0/2.0 GiB objects<br>Result logdir: /Users/stanleyaraki/ray_results/ImpalaTrainer_2022-04-03_22-39-10<br>Number of trials: 1/1 (1 PENDING)<br><table>\n",
       "<thead>\n",
       "<tr><th>Trial name                                      </th><th>status  </th><th>loc  </th></tr>\n",
       "</thead>\n",
       "<tbody>\n",
       "<tr><td>ImpalaTrainer_BreakoutNoFrameskip-v4_67ff1_00000</td><td>PENDING </td><td>     </td></tr>\n",
       "</tbody>\n",
       "</table><br><br>"
      ],
      "text/plain": [
       "<IPython.core.display.HTML object>"
      ]
     },
     "metadata": {},
     "output_type": "display_data"
    },
    {
     "data": {
      "text/html": [
       "== Status ==<br>Current time: 2022-04-03 22:43:25 (running for 00:04:15.17)<br>Memory usage on this node: 9.8/16.0 GiB<br>Using FIFO scheduling algorithm.<br>Resources requested: 0/12 CPUs, 0/0 GPUs, 0.0/4.8 GiB heap, 0.0/2.0 GiB objects<br>Result logdir: /Users/stanleyaraki/ray_results/ImpalaTrainer_2022-04-03_22-39-10<br>Number of trials: 1/1 (1 PENDING)<br><table>\n",
       "<thead>\n",
       "<tr><th>Trial name                                      </th><th>status  </th><th>loc  </th></tr>\n",
       "</thead>\n",
       "<tbody>\n",
       "<tr><td>ImpalaTrainer_BreakoutNoFrameskip-v4_67ff1_00000</td><td>PENDING </td><td>     </td></tr>\n",
       "</tbody>\n",
       "</table><br><br>"
      ],
      "text/plain": [
       "<IPython.core.display.HTML object>"
      ]
     },
     "metadata": {},
     "output_type": "display_data"
    },
    {
     "data": {
      "text/html": [
       "== Status ==<br>Current time: 2022-04-03 22:43:30 (running for 00:04:20.17)<br>Memory usage on this node: 9.8/16.0 GiB<br>Using FIFO scheduling algorithm.<br>Resources requested: 0/12 CPUs, 0/0 GPUs, 0.0/4.8 GiB heap, 0.0/2.0 GiB objects<br>Result logdir: /Users/stanleyaraki/ray_results/ImpalaTrainer_2022-04-03_22-39-10<br>Number of trials: 1/1 (1 PENDING)<br><table>\n",
       "<thead>\n",
       "<tr><th>Trial name                                      </th><th>status  </th><th>loc  </th></tr>\n",
       "</thead>\n",
       "<tbody>\n",
       "<tr><td>ImpalaTrainer_BreakoutNoFrameskip-v4_67ff1_00000</td><td>PENDING </td><td>     </td></tr>\n",
       "</tbody>\n",
       "</table><br><br>"
      ],
      "text/plain": [
       "<IPython.core.display.HTML object>"
      ]
     },
     "metadata": {},
     "output_type": "display_data"
    },
    {
     "data": {
      "text/html": [
       "== Status ==<br>Current time: 2022-04-03 22:43:35 (running for 00:04:25.17)<br>Memory usage on this node: 9.8/16.0 GiB<br>Using FIFO scheduling algorithm.<br>Resources requested: 0/12 CPUs, 0/0 GPUs, 0.0/4.8 GiB heap, 0.0/2.0 GiB objects<br>Result logdir: /Users/stanleyaraki/ray_results/ImpalaTrainer_2022-04-03_22-39-10<br>Number of trials: 1/1 (1 PENDING)<br><table>\n",
       "<thead>\n",
       "<tr><th>Trial name                                      </th><th>status  </th><th>loc  </th></tr>\n",
       "</thead>\n",
       "<tbody>\n",
       "<tr><td>ImpalaTrainer_BreakoutNoFrameskip-v4_67ff1_00000</td><td>PENDING </td><td>     </td></tr>\n",
       "</tbody>\n",
       "</table><br><br>"
      ],
      "text/plain": [
       "<IPython.core.display.HTML object>"
      ]
     },
     "metadata": {},
     "output_type": "display_data"
    },
    {
     "data": {
      "text/html": [
       "== Status ==<br>Current time: 2022-04-03 22:43:40 (running for 00:04:30.18)<br>Memory usage on this node: 9.9/16.0 GiB<br>Using FIFO scheduling algorithm.<br>Resources requested: 0/12 CPUs, 0/0 GPUs, 0.0/4.8 GiB heap, 0.0/2.0 GiB objects<br>Result logdir: /Users/stanleyaraki/ray_results/ImpalaTrainer_2022-04-03_22-39-10<br>Number of trials: 1/1 (1 PENDING)<br><table>\n",
       "<thead>\n",
       "<tr><th>Trial name                                      </th><th>status  </th><th>loc  </th></tr>\n",
       "</thead>\n",
       "<tbody>\n",
       "<tr><td>ImpalaTrainer_BreakoutNoFrameskip-v4_67ff1_00000</td><td>PENDING </td><td>     </td></tr>\n",
       "</tbody>\n",
       "</table><br><br>"
      ],
      "text/plain": [
       "<IPython.core.display.HTML object>"
      ]
     },
     "metadata": {},
     "output_type": "display_data"
    },
    {
     "data": {
      "text/html": [
       "== Status ==<br>Current time: 2022-04-03 22:43:45 (running for 00:04:35.18)<br>Memory usage on this node: 9.8/16.0 GiB<br>Using FIFO scheduling algorithm.<br>Resources requested: 0/12 CPUs, 0/0 GPUs, 0.0/4.8 GiB heap, 0.0/2.0 GiB objects<br>Result logdir: /Users/stanleyaraki/ray_results/ImpalaTrainer_2022-04-03_22-39-10<br>Number of trials: 1/1 (1 PENDING)<br><table>\n",
       "<thead>\n",
       "<tr><th>Trial name                                      </th><th>status  </th><th>loc  </th></tr>\n",
       "</thead>\n",
       "<tbody>\n",
       "<tr><td>ImpalaTrainer_BreakoutNoFrameskip-v4_67ff1_00000</td><td>PENDING </td><td>     </td></tr>\n",
       "</tbody>\n",
       "</table><br><br>"
      ],
      "text/plain": [
       "<IPython.core.display.HTML object>"
      ]
     },
     "metadata": {},
     "output_type": "display_data"
    },
    {
     "data": {
      "text/html": [
       "== Status ==<br>Current time: 2022-04-03 22:43:50 (running for 00:04:40.18)<br>Memory usage on this node: 9.8/16.0 GiB<br>Using FIFO scheduling algorithm.<br>Resources requested: 0/12 CPUs, 0/0 GPUs, 0.0/4.8 GiB heap, 0.0/2.0 GiB objects<br>Result logdir: /Users/stanleyaraki/ray_results/ImpalaTrainer_2022-04-03_22-39-10<br>Number of trials: 1/1 (1 PENDING)<br><table>\n",
       "<thead>\n",
       "<tr><th>Trial name                                      </th><th>status  </th><th>loc  </th></tr>\n",
       "</thead>\n",
       "<tbody>\n",
       "<tr><td>ImpalaTrainer_BreakoutNoFrameskip-v4_67ff1_00000</td><td>PENDING </td><td>     </td></tr>\n",
       "</tbody>\n",
       "</table><br><br>"
      ],
      "text/plain": [
       "<IPython.core.display.HTML object>"
      ]
     },
     "metadata": {},
     "output_type": "display_data"
    },
    {
     "name": "stdout",
     "output_type": "stream",
     "text": [
      "\u001b[2m\u001b[1m\u001b[33m(scheduler +20m33s)\u001b[0m Error: No available node types can fulfill resource request {'CPU': 1.0, 'GPU': 1.0}. Add suitable node types to this cluster to resolve this issue.\n"
     ]
    },
    {
     "data": {
      "text/html": [
       "== Status ==<br>Current time: 2022-04-03 22:43:55 (running for 00:04:45.18)<br>Memory usage on this node: 9.8/16.0 GiB<br>Using FIFO scheduling algorithm.<br>Resources requested: 0/12 CPUs, 0/0 GPUs, 0.0/4.8 GiB heap, 0.0/2.0 GiB objects<br>Result logdir: /Users/stanleyaraki/ray_results/ImpalaTrainer_2022-04-03_22-39-10<br>Number of trials: 1/1 (1 PENDING)<br><table>\n",
       "<thead>\n",
       "<tr><th>Trial name                                      </th><th>status  </th><th>loc  </th></tr>\n",
       "</thead>\n",
       "<tbody>\n",
       "<tr><td>ImpalaTrainer_BreakoutNoFrameskip-v4_67ff1_00000</td><td>PENDING </td><td>     </td></tr>\n",
       "</tbody>\n",
       "</table><br><br>"
      ],
      "text/plain": [
       "<IPython.core.display.HTML object>"
      ]
     },
     "metadata": {},
     "output_type": "display_data"
    },
    {
     "data": {
      "text/html": [
       "== Status ==<br>Current time: 2022-04-03 22:44:00 (running for 00:04:50.18)<br>Memory usage on this node: 9.9/16.0 GiB<br>Using FIFO scheduling algorithm.<br>Resources requested: 0/12 CPUs, 0/0 GPUs, 0.0/4.8 GiB heap, 0.0/2.0 GiB objects<br>Result logdir: /Users/stanleyaraki/ray_results/ImpalaTrainer_2022-04-03_22-39-10<br>Number of trials: 1/1 (1 PENDING)<br><table>\n",
       "<thead>\n",
       "<tr><th>Trial name                                      </th><th>status  </th><th>loc  </th></tr>\n",
       "</thead>\n",
       "<tbody>\n",
       "<tr><td>ImpalaTrainer_BreakoutNoFrameskip-v4_67ff1_00000</td><td>PENDING </td><td>     </td></tr>\n",
       "</tbody>\n",
       "</table><br><br>"
      ],
      "text/plain": [
       "<IPython.core.display.HTML object>"
      ]
     },
     "metadata": {},
     "output_type": "display_data"
    },
    {
     "data": {
      "text/html": [
       "== Status ==<br>Current time: 2022-04-03 22:44:05 (running for 00:04:55.18)<br>Memory usage on this node: 10.1/16.0 GiB<br>Using FIFO scheduling algorithm.<br>Resources requested: 0/12 CPUs, 0/0 GPUs, 0.0/4.8 GiB heap, 0.0/2.0 GiB objects<br>Result logdir: /Users/stanleyaraki/ray_results/ImpalaTrainer_2022-04-03_22-39-10<br>Number of trials: 1/1 (1 PENDING)<br><table>\n",
       "<thead>\n",
       "<tr><th>Trial name                                      </th><th>status  </th><th>loc  </th></tr>\n",
       "</thead>\n",
       "<tbody>\n",
       "<tr><td>ImpalaTrainer_BreakoutNoFrameskip-v4_67ff1_00000</td><td>PENDING </td><td>     </td></tr>\n",
       "</tbody>\n",
       "</table><br><br>"
      ],
      "text/plain": [
       "<IPython.core.display.HTML object>"
      ]
     },
     "metadata": {},
     "output_type": "display_data"
    },
    {
     "name": "stderr",
     "output_type": "stream",
     "text": [
      "2022-04-03 22:44:10,279\tWARNING insufficient_resources_manager.py:122 -- Ignore this message if the cluster is autoscaling. You asked for 8.0 cpu and 1.0 gpu per trial, but the cluster only has 12.0 cpu and 0 gpu. Stop the tuning job and adjust the resources requested per trial (possibly via `resources_per_trial` or via `num_workers` for rllib) and/or add more resources to your Ray runtime.\n"
     ]
    },
    {
     "data": {
      "text/html": [
       "== Status ==<br>Current time: 2022-04-03 22:44:10 (running for 00:05:00.18)<br>Memory usage on this node: 9.9/16.0 GiB<br>Using FIFO scheduling algorithm.<br>Resources requested: 0/12 CPUs, 0/0 GPUs, 0.0/4.8 GiB heap, 0.0/2.0 GiB objects<br>Result logdir: /Users/stanleyaraki/ray_results/ImpalaTrainer_2022-04-03_22-39-10<br>Number of trials: 1/1 (1 PENDING)<br><table>\n",
       "<thead>\n",
       "<tr><th>Trial name                                      </th><th>status  </th><th>loc  </th></tr>\n",
       "</thead>\n",
       "<tbody>\n",
       "<tr><td>ImpalaTrainer_BreakoutNoFrameskip-v4_67ff1_00000</td><td>PENDING </td><td>     </td></tr>\n",
       "</tbody>\n",
       "</table><br><br>"
      ],
      "text/plain": [
       "<IPython.core.display.HTML object>"
      ]
     },
     "metadata": {},
     "output_type": "display_data"
    },
    {
     "data": {
      "text/html": [
       "== Status ==<br>Current time: 2022-04-03 22:44:15 (running for 00:05:05.18)<br>Memory usage on this node: 9.9/16.0 GiB<br>Using FIFO scheduling algorithm.<br>Resources requested: 0/12 CPUs, 0/0 GPUs, 0.0/4.8 GiB heap, 0.0/2.0 GiB objects<br>Result logdir: /Users/stanleyaraki/ray_results/ImpalaTrainer_2022-04-03_22-39-10<br>Number of trials: 1/1 (1 PENDING)<br><table>\n",
       "<thead>\n",
       "<tr><th>Trial name                                      </th><th>status  </th><th>loc  </th></tr>\n",
       "</thead>\n",
       "<tbody>\n",
       "<tr><td>ImpalaTrainer_BreakoutNoFrameskip-v4_67ff1_00000</td><td>PENDING </td><td>     </td></tr>\n",
       "</tbody>\n",
       "</table><br><br>"
      ],
      "text/plain": [
       "<IPython.core.display.HTML object>"
      ]
     },
     "metadata": {},
     "output_type": "display_data"
    },
    {
     "data": {
      "text/html": [
       "== Status ==<br>Current time: 2022-04-03 22:44:20 (running for 00:05:10.18)<br>Memory usage on this node: 9.9/16.0 GiB<br>Using FIFO scheduling algorithm.<br>Resources requested: 0/12 CPUs, 0/0 GPUs, 0.0/4.8 GiB heap, 0.0/2.0 GiB objects<br>Result logdir: /Users/stanleyaraki/ray_results/ImpalaTrainer_2022-04-03_22-39-10<br>Number of trials: 1/1 (1 PENDING)<br><table>\n",
       "<thead>\n",
       "<tr><th>Trial name                                      </th><th>status  </th><th>loc  </th></tr>\n",
       "</thead>\n",
       "<tbody>\n",
       "<tr><td>ImpalaTrainer_BreakoutNoFrameskip-v4_67ff1_00000</td><td>PENDING </td><td>     </td></tr>\n",
       "</tbody>\n",
       "</table><br><br>"
      ],
      "text/plain": [
       "<IPython.core.display.HTML object>"
      ]
     },
     "metadata": {},
     "output_type": "display_data"
    },
    {
     "data": {
      "text/html": [
       "== Status ==<br>Current time: 2022-04-03 22:44:25 (running for 00:05:15.18)<br>Memory usage on this node: 9.8/16.0 GiB<br>Using FIFO scheduling algorithm.<br>Resources requested: 0/12 CPUs, 0/0 GPUs, 0.0/4.8 GiB heap, 0.0/2.0 GiB objects<br>Result logdir: /Users/stanleyaraki/ray_results/ImpalaTrainer_2022-04-03_22-39-10<br>Number of trials: 1/1 (1 PENDING)<br><table>\n",
       "<thead>\n",
       "<tr><th>Trial name                                      </th><th>status  </th><th>loc  </th></tr>\n",
       "</thead>\n",
       "<tbody>\n",
       "<tr><td>ImpalaTrainer_BreakoutNoFrameskip-v4_67ff1_00000</td><td>PENDING </td><td>     </td></tr>\n",
       "</tbody>\n",
       "</table><br><br>"
      ],
      "text/plain": [
       "<IPython.core.display.HTML object>"
      ]
     },
     "metadata": {},
     "output_type": "display_data"
    },
    {
     "name": "stdout",
     "output_type": "stream",
     "text": [
      "\u001b[2m\u001b[1m\u001b[33m(scheduler +21m8s)\u001b[0m Error: No available node types can fulfill resource request {'GPU': 1.0, 'CPU': 1.0}. Add suitable node types to this cluster to resolve this issue.\n"
     ]
    },
    {
     "data": {
      "text/html": [
       "== Status ==<br>Current time: 2022-04-03 22:44:30 (running for 00:05:20.19)<br>Memory usage on this node: 9.8/16.0 GiB<br>Using FIFO scheduling algorithm.<br>Resources requested: 0/12 CPUs, 0/0 GPUs, 0.0/4.8 GiB heap, 0.0/2.0 GiB objects<br>Result logdir: /Users/stanleyaraki/ray_results/ImpalaTrainer_2022-04-03_22-39-10<br>Number of trials: 1/1 (1 PENDING)<br><table>\n",
       "<thead>\n",
       "<tr><th>Trial name                                      </th><th>status  </th><th>loc  </th></tr>\n",
       "</thead>\n",
       "<tbody>\n",
       "<tr><td>ImpalaTrainer_BreakoutNoFrameskip-v4_67ff1_00000</td><td>PENDING </td><td>     </td></tr>\n",
       "</tbody>\n",
       "</table><br><br>"
      ],
      "text/plain": [
       "<IPython.core.display.HTML object>"
      ]
     },
     "metadata": {},
     "output_type": "display_data"
    },
    {
     "data": {
      "text/html": [
       "== Status ==<br>Current time: 2022-04-03 22:44:35 (running for 00:05:25.19)<br>Memory usage on this node: 9.7/16.0 GiB<br>Using FIFO scheduling algorithm.<br>Resources requested: 0/12 CPUs, 0/0 GPUs, 0.0/4.8 GiB heap, 0.0/2.0 GiB objects<br>Result logdir: /Users/stanleyaraki/ray_results/ImpalaTrainer_2022-04-03_22-39-10<br>Number of trials: 1/1 (1 PENDING)<br><table>\n",
       "<thead>\n",
       "<tr><th>Trial name                                      </th><th>status  </th><th>loc  </th></tr>\n",
       "</thead>\n",
       "<tbody>\n",
       "<tr><td>ImpalaTrainer_BreakoutNoFrameskip-v4_67ff1_00000</td><td>PENDING </td><td>     </td></tr>\n",
       "</tbody>\n",
       "</table><br><br>"
      ],
      "text/plain": [
       "<IPython.core.display.HTML object>"
      ]
     },
     "metadata": {},
     "output_type": "display_data"
    },
    {
     "data": {
      "text/html": [
       "== Status ==<br>Current time: 2022-04-03 22:44:40 (running for 00:05:30.19)<br>Memory usage on this node: 9.7/16.0 GiB<br>Using FIFO scheduling algorithm.<br>Resources requested: 0/12 CPUs, 0/0 GPUs, 0.0/4.8 GiB heap, 0.0/2.0 GiB objects<br>Result logdir: /Users/stanleyaraki/ray_results/ImpalaTrainer_2022-04-03_22-39-10<br>Number of trials: 1/1 (1 PENDING)<br><table>\n",
       "<thead>\n",
       "<tr><th>Trial name                                      </th><th>status  </th><th>loc  </th></tr>\n",
       "</thead>\n",
       "<tbody>\n",
       "<tr><td>ImpalaTrainer_BreakoutNoFrameskip-v4_67ff1_00000</td><td>PENDING </td><td>     </td></tr>\n",
       "</tbody>\n",
       "</table><br><br>"
      ],
      "text/plain": [
       "<IPython.core.display.HTML object>"
      ]
     },
     "metadata": {},
     "output_type": "display_data"
    },
    {
     "data": {
      "text/html": [
       "== Status ==<br>Current time: 2022-04-03 22:44:45 (running for 00:05:35.19)<br>Memory usage on this node: 9.7/16.0 GiB<br>Using FIFO scheduling algorithm.<br>Resources requested: 0/12 CPUs, 0/0 GPUs, 0.0/4.8 GiB heap, 0.0/2.0 GiB objects<br>Result logdir: /Users/stanleyaraki/ray_results/ImpalaTrainer_2022-04-03_22-39-10<br>Number of trials: 1/1 (1 PENDING)<br><table>\n",
       "<thead>\n",
       "<tr><th>Trial name                                      </th><th>status  </th><th>loc  </th></tr>\n",
       "</thead>\n",
       "<tbody>\n",
       "<tr><td>ImpalaTrainer_BreakoutNoFrameskip-v4_67ff1_00000</td><td>PENDING </td><td>     </td></tr>\n",
       "</tbody>\n",
       "</table><br><br>"
      ],
      "text/plain": [
       "<IPython.core.display.HTML object>"
      ]
     },
     "metadata": {},
     "output_type": "display_data"
    },
    {
     "data": {
      "text/html": [
       "== Status ==<br>Current time: 2022-04-03 22:44:50 (running for 00:05:40.19)<br>Memory usage on this node: 9.7/16.0 GiB<br>Using FIFO scheduling algorithm.<br>Resources requested: 0/12 CPUs, 0/0 GPUs, 0.0/4.8 GiB heap, 0.0/2.0 GiB objects<br>Result logdir: /Users/stanleyaraki/ray_results/ImpalaTrainer_2022-04-03_22-39-10<br>Number of trials: 1/1 (1 PENDING)<br><table>\n",
       "<thead>\n",
       "<tr><th>Trial name                                      </th><th>status  </th><th>loc  </th></tr>\n",
       "</thead>\n",
       "<tbody>\n",
       "<tr><td>ImpalaTrainer_BreakoutNoFrameskip-v4_67ff1_00000</td><td>PENDING </td><td>     </td></tr>\n",
       "</tbody>\n",
       "</table><br><br>"
      ],
      "text/plain": [
       "<IPython.core.display.HTML object>"
      ]
     },
     "metadata": {},
     "output_type": "display_data"
    },
    {
     "data": {
      "text/html": [
       "== Status ==<br>Current time: 2022-04-03 22:44:55 (running for 00:05:45.19)<br>Memory usage on this node: 9.7/16.0 GiB<br>Using FIFO scheduling algorithm.<br>Resources requested: 0/12 CPUs, 0/0 GPUs, 0.0/4.8 GiB heap, 0.0/2.0 GiB objects<br>Result logdir: /Users/stanleyaraki/ray_results/ImpalaTrainer_2022-04-03_22-39-10<br>Number of trials: 1/1 (1 PENDING)<br><table>\n",
       "<thead>\n",
       "<tr><th>Trial name                                      </th><th>status  </th><th>loc  </th></tr>\n",
       "</thead>\n",
       "<tbody>\n",
       "<tr><td>ImpalaTrainer_BreakoutNoFrameskip-v4_67ff1_00000</td><td>PENDING </td><td>     </td></tr>\n",
       "</tbody>\n",
       "</table><br><br>"
      ],
      "text/plain": [
       "<IPython.core.display.HTML object>"
      ]
     },
     "metadata": {},
     "output_type": "display_data"
    },
    {
     "data": {
      "text/html": [
       "== Status ==<br>Current time: 2022-04-03 22:45:00 (running for 00:05:50.19)<br>Memory usage on this node: 9.7/16.0 GiB<br>Using FIFO scheduling algorithm.<br>Resources requested: 0/12 CPUs, 0/0 GPUs, 0.0/4.8 GiB heap, 0.0/2.0 GiB objects<br>Result logdir: /Users/stanleyaraki/ray_results/ImpalaTrainer_2022-04-03_22-39-10<br>Number of trials: 1/1 (1 PENDING)<br><table>\n",
       "<thead>\n",
       "<tr><th>Trial name                                      </th><th>status  </th><th>loc  </th></tr>\n",
       "</thead>\n",
       "<tbody>\n",
       "<tr><td>ImpalaTrainer_BreakoutNoFrameskip-v4_67ff1_00000</td><td>PENDING </td><td>     </td></tr>\n",
       "</tbody>\n",
       "</table><br><br>"
      ],
      "text/plain": [
       "<IPython.core.display.HTML object>"
      ]
     },
     "metadata": {},
     "output_type": "display_data"
    },
    {
     "name": "stdout",
     "output_type": "stream",
     "text": [
      "\u001b[2m\u001b[1m\u001b[33m(scheduler +21m43s)\u001b[0m Error: No available node types can fulfill resource request {'CPU': 1.0, 'GPU': 1.0}. Add suitable node types to this cluster to resolve this issue.\n"
     ]
    },
    {
     "data": {
      "text/html": [
       "== Status ==<br>Current time: 2022-04-03 22:45:05 (running for 00:05:55.19)<br>Memory usage on this node: 9.7/16.0 GiB<br>Using FIFO scheduling algorithm.<br>Resources requested: 0/12 CPUs, 0/0 GPUs, 0.0/4.8 GiB heap, 0.0/2.0 GiB objects<br>Result logdir: /Users/stanleyaraki/ray_results/ImpalaTrainer_2022-04-03_22-39-10<br>Number of trials: 1/1 (1 PENDING)<br><table>\n",
       "<thead>\n",
       "<tr><th>Trial name                                      </th><th>status  </th><th>loc  </th></tr>\n",
       "</thead>\n",
       "<tbody>\n",
       "<tr><td>ImpalaTrainer_BreakoutNoFrameskip-v4_67ff1_00000</td><td>PENDING </td><td>     </td></tr>\n",
       "</tbody>\n",
       "</table><br><br>"
      ],
      "text/plain": [
       "<IPython.core.display.HTML object>"
      ]
     },
     "metadata": {},
     "output_type": "display_data"
    },
    {
     "name": "stderr",
     "output_type": "stream",
     "text": [
      "2022-04-03 22:45:10,280\tWARNING insufficient_resources_manager.py:122 -- Ignore this message if the cluster is autoscaling. You asked for 8.0 cpu and 1.0 gpu per trial, but the cluster only has 12.0 cpu and 0 gpu. Stop the tuning job and adjust the resources requested per trial (possibly via `resources_per_trial` or via `num_workers` for rllib) and/or add more resources to your Ray runtime.\n"
     ]
    },
    {
     "data": {
      "text/html": [
       "== Status ==<br>Current time: 2022-04-03 22:45:10 (running for 00:06:00.19)<br>Memory usage on this node: 9.9/16.0 GiB<br>Using FIFO scheduling algorithm.<br>Resources requested: 0/12 CPUs, 0/0 GPUs, 0.0/4.8 GiB heap, 0.0/2.0 GiB objects<br>Result logdir: /Users/stanleyaraki/ray_results/ImpalaTrainer_2022-04-03_22-39-10<br>Number of trials: 1/1 (1 PENDING)<br><table>\n",
       "<thead>\n",
       "<tr><th>Trial name                                      </th><th>status  </th><th>loc  </th></tr>\n",
       "</thead>\n",
       "<tbody>\n",
       "<tr><td>ImpalaTrainer_BreakoutNoFrameskip-v4_67ff1_00000</td><td>PENDING </td><td>     </td></tr>\n",
       "</tbody>\n",
       "</table><br><br>"
      ],
      "text/plain": [
       "<IPython.core.display.HTML object>"
      ]
     },
     "metadata": {},
     "output_type": "display_data"
    },
    {
     "data": {
      "text/html": [
       "== Status ==<br>Current time: 2022-04-03 22:45:15 (running for 00:06:05.19)<br>Memory usage on this node: 10.0/16.0 GiB<br>Using FIFO scheduling algorithm.<br>Resources requested: 0/12 CPUs, 0/0 GPUs, 0.0/4.8 GiB heap, 0.0/2.0 GiB objects<br>Result logdir: /Users/stanleyaraki/ray_results/ImpalaTrainer_2022-04-03_22-39-10<br>Number of trials: 1/1 (1 PENDING)<br><table>\n",
       "<thead>\n",
       "<tr><th>Trial name                                      </th><th>status  </th><th>loc  </th></tr>\n",
       "</thead>\n",
       "<tbody>\n",
       "<tr><td>ImpalaTrainer_BreakoutNoFrameskip-v4_67ff1_00000</td><td>PENDING </td><td>     </td></tr>\n",
       "</tbody>\n",
       "</table><br><br>"
      ],
      "text/plain": [
       "<IPython.core.display.HTML object>"
      ]
     },
     "metadata": {},
     "output_type": "display_data"
    },
    {
     "data": {
      "text/html": [
       "== Status ==<br>Current time: 2022-04-03 22:45:20 (running for 00:06:10.19)<br>Memory usage on this node: 10.0/16.0 GiB<br>Using FIFO scheduling algorithm.<br>Resources requested: 0/12 CPUs, 0/0 GPUs, 0.0/4.8 GiB heap, 0.0/2.0 GiB objects<br>Result logdir: /Users/stanleyaraki/ray_results/ImpalaTrainer_2022-04-03_22-39-10<br>Number of trials: 1/1 (1 PENDING)<br><table>\n",
       "<thead>\n",
       "<tr><th>Trial name                                      </th><th>status  </th><th>loc  </th></tr>\n",
       "</thead>\n",
       "<tbody>\n",
       "<tr><td>ImpalaTrainer_BreakoutNoFrameskip-v4_67ff1_00000</td><td>PENDING </td><td>     </td></tr>\n",
       "</tbody>\n",
       "</table><br><br>"
      ],
      "text/plain": [
       "<IPython.core.display.HTML object>"
      ]
     },
     "metadata": {},
     "output_type": "display_data"
    },
    {
     "data": {
      "text/html": [
       "== Status ==<br>Current time: 2022-04-03 22:45:25 (running for 00:06:15.20)<br>Memory usage on this node: 10.0/16.0 GiB<br>Using FIFO scheduling algorithm.<br>Resources requested: 0/12 CPUs, 0/0 GPUs, 0.0/4.8 GiB heap, 0.0/2.0 GiB objects<br>Result logdir: /Users/stanleyaraki/ray_results/ImpalaTrainer_2022-04-03_22-39-10<br>Number of trials: 1/1 (1 PENDING)<br><table>\n",
       "<thead>\n",
       "<tr><th>Trial name                                      </th><th>status  </th><th>loc  </th></tr>\n",
       "</thead>\n",
       "<tbody>\n",
       "<tr><td>ImpalaTrainer_BreakoutNoFrameskip-v4_67ff1_00000</td><td>PENDING </td><td>     </td></tr>\n",
       "</tbody>\n",
       "</table><br><br>"
      ],
      "text/plain": [
       "<IPython.core.display.HTML object>"
      ]
     },
     "metadata": {},
     "output_type": "display_data"
    },
    {
     "name": "stderr",
     "output_type": "stream",
     "text": [
      "2022-04-03 22:45:25,942\tWARNING tune.py:595 -- SIGINT received (e.g. via Ctrl+C), ending Ray Tune run. This will try to checkpoint the experiment state one last time. Press CTRL+C one more time (or send SIGINT/SIGKILL/SIGTERM) to skip. \n"
     ]
    },
    {
     "data": {
      "text/html": [
       "== Status ==<br>Current time: 2022-04-03 22:45:25 (running for 00:06:15.79)<br>Memory usage on this node: 10.0/16.0 GiB<br>Using FIFO scheduling algorithm.<br>Resources requested: 0/12 CPUs, 0/0 GPUs, 0.0/4.8 GiB heap, 0.0/2.0 GiB objects<br>Result logdir: /Users/stanleyaraki/ray_results/ImpalaTrainer_2022-04-03_22-39-10<br>Number of trials: 1/1 (1 PENDING)<br><table>\n",
       "<thead>\n",
       "<tr><th>Trial name                                      </th><th>status  </th><th>loc  </th></tr>\n",
       "</thead>\n",
       "<tbody>\n",
       "<tr><td>ImpalaTrainer_BreakoutNoFrameskip-v4_67ff1_00000</td><td>PENDING </td><td>     </td></tr>\n",
       "</tbody>\n",
       "</table><br><br>"
      ],
      "text/plain": [
       "<IPython.core.display.HTML object>"
      ]
     },
     "metadata": {},
     "output_type": "display_data"
    },
    {
     "name": "stderr",
     "output_type": "stream",
     "text": [
      "2022-04-03 22:45:26,152\tERROR tune.py:635 -- Trials did not complete: [ImpalaTrainer_BreakoutNoFrameskip-v4_67ff1_00000]\n",
      "2022-04-03 22:45:26,153\tINFO tune.py:639 -- Total run time: 376.00 seconds (375.79 seconds for the tuning loop).\n",
      "2022-04-03 22:45:26,153\tWARNING tune.py:643 -- Experiment has been interrupted, but the most recent state was saved. You can continue running this experiment by passing `resume=True` to `tune.run()`\n"
     ]
    },
    {
     "data": {
      "text/plain": [
       "<ray.tune.analysis.experiment_analysis.ExperimentAnalysis at 0x7f9976899d00>"
      ]
     },
     "execution_count": 12,
     "metadata": {},
     "output_type": "execute_result"
    }
   ],
   "source": [
    "import ray\n",
    "from ray import tune\n",
    "from ray.rllib.agents.impala import ImpalaTrainer\n",
    "\n",
    "ray.shutdown()\n",
    "ray.init()\n",
    "\n",
    "ENV = \"BreakoutNoFrameskip-v4\"\n",
    "TARGET_REWARD = 200\n",
    "TRAINER = ImpalaTrainer\n",
    "\n",
    "tune.run(\n",
    "    TRAINER,\n",
    "    stop={\"episode_reward_mean\": TARGET_REWARD},\n",
    "    config={\n",
    "      \"env\": ENV,\n",
    "      \"monitor\": True,\n",
    "      \"evaluation_num_episodes\": 25,\n",
    "\n",
    "      # from https://github.com/ray-project/ray/blob/master/rllib/tuned_examples/impala/atari-impala.yaml\n",
    "      \"rollout_fragment_length\": 50,\n",
    "      \"train_batch_size\": 500,\n",
    "      \"num_workers\": 7,\n",
    "      \"num_envs_per_worker\": 5,\n",
    "      \"clip_rewards\": True,\n",
    "      \"lr_schedule\": [\n",
    "          [0, 0.0005],\n",
    "          [20_000_000, 0.000000000001],\n",
    "      ]\n",
    "    }\n",
    ")"
   ]
  },
  {
   "cell_type": "code",
   "execution_count": 9,
   "metadata": {},
   "outputs": [
    {
     "data": {
      "text/html": [
       "== Status ==<br>Current time: 2022-04-03 22:31:34 (running for 00:00:07.55)<br>Memory usage on this node: 9.8/16.0 GiB<br>Using FIFO scheduling algorithm.<br>Resources requested: 1.0/12 CPUs, 0/0 GPUs, 0.0/4.7 GiB heap, 0.0/2.0 GiB objects<br>Result logdir: /Users/stanleyaraki/ray_results/PPOTrainer_2022-04-03_22-31-26<br>Number of trials: 1/1 (1 RUNNING)<br><table>\n",
       "<thead>\n",
       "<tr><th>Trial name                                   </th><th>status  </th><th>loc  </th></tr>\n",
       "</thead>\n",
       "<tbody>\n",
       "<tr><td>PPOTrainer_BreakoutNoFrameskip-v4_53a30_00000</td><td>RUNNING </td><td>     </td></tr>\n",
       "</tbody>\n",
       "</table><br><br>"
      ],
      "text/plain": [
       "<IPython.core.display.HTML object>"
      ]
     },
     "metadata": {},
     "output_type": "display_data"
    },
    {
     "name": "stderr",
     "output_type": "stream",
     "text": [
      "2022-04-03 22:31:34,050\tERROR trial_runner.py:920 -- Trial PPOTrainer_BreakoutNoFrameskip-v4_53a30_00000: Error processing event.\n",
      "Traceback (most recent call last):\n",
      "  File \"/Users/stanleyaraki/miniconda3/lib/python3.9/site-packages/ray/tune/trial_runner.py\", line 886, in _process_trial\n",
      "    results = self.trial_executor.fetch_result(trial)\n",
      "  File \"/Users/stanleyaraki/miniconda3/lib/python3.9/site-packages/ray/tune/ray_trial_executor.py\", line 675, in fetch_result\n",
      "    result = ray.get(trial_future[0], timeout=DEFAULT_GET_TIMEOUT)\n",
      "  File \"/Users/stanleyaraki/miniconda3/lib/python3.9/site-packages/ray/_private/client_mode_hook.py\", line 105, in wrapper\n",
      "    return func(*args, **kwargs)\n",
      "  File \"/Users/stanleyaraki/miniconda3/lib/python3.9/site-packages/ray/worker.py\", line 1765, in get\n",
      "    raise value\n",
      "ray.exceptions.RayActorError: The actor died because of an error raised in its creation task, \u001b[36mray::PPOTrainer.__init__()\u001b[39m (pid=1526, ip=127.0.0.1, repr=PPOTrainer)\n",
      "  File \"/Users/stanleyaraki/miniconda3/lib/python3.9/site-packages/ray/rllib/agents/trainer.py\", line 746, in __init__\n",
      "    super().__init__(config, logger_creator, remote_checkpoint_dir,\n",
      "  File \"/Users/stanleyaraki/miniconda3/lib/python3.9/site-packages/ray/tune/trainable.py\", line 124, in __init__\n",
      "    self.setup(copy.deepcopy(self.config))\n",
      "  File \"/Users/stanleyaraki/miniconda3/lib/python3.9/site-packages/ray/rllib/agents/trainer.py\", line 759, in setup\n",
      "    self.config = self.merge_trainer_configs(\n",
      "  File \"/Users/stanleyaraki/miniconda3/lib/python3.9/site-packages/ray/rllib/agents/trainer.py\", line 2077, in merge_trainer_configs\n",
      "    return deep_update(config1, config2, _allow_unknown_configs,\n",
      "  File \"/Users/stanleyaraki/miniconda3/lib/python3.9/site-packages/ray/util/ml_utils/dict.py\", line 51, in deep_update\n",
      "    raise Exception(\"Unknown config parameter `{}` \".format(k))\n",
      "Exception: Unknown config parameter `double_q`\n"
     ]
    },
    {
     "name": "stdout",
     "output_type": "stream",
     "text": [
      "Result for PPOTrainer_BreakoutNoFrameskip-v4_53a30_00000:\n",
      "  trial_id: 53a30_00000\n",
      "  \n"
     ]
    },
    {
     "data": {
      "text/html": [
       "== Status ==<br>Current time: 2022-04-03 22:31:34 (running for 00:00:07.56)<br>Memory usage on this node: 9.8/16.0 GiB<br>Using FIFO scheduling algorithm.<br>Resources requested: 0/12 CPUs, 0/0 GPUs, 0.0/4.7 GiB heap, 0.0/2.0 GiB objects<br>Result logdir: /Users/stanleyaraki/ray_results/PPOTrainer_2022-04-03_22-31-26<br>Number of trials: 1/1 (1 ERROR)<br><table>\n",
       "<thead>\n",
       "<tr><th>Trial name                                   </th><th>status  </th><th>loc  </th></tr>\n",
       "</thead>\n",
       "<tbody>\n",
       "<tr><td>PPOTrainer_BreakoutNoFrameskip-v4_53a30_00000</td><td>ERROR   </td><td>     </td></tr>\n",
       "</tbody>\n",
       "</table><br>Number of errored trials: 1<br><table>\n",
       "<thead>\n",
       "<tr><th>Trial name                                   </th><th style=\"text-align: right;\">  # failures</th><th>error file                                                                                                                                  </th></tr>\n",
       "</thead>\n",
       "<tbody>\n",
       "<tr><td>PPOTrainer_BreakoutNoFrameskip-v4_53a30_00000</td><td style=\"text-align: right;\">           1</td><td>/Users/stanleyaraki/ray_results/PPOTrainer_2022-04-03_22-31-26/PPOTrainer_BreakoutNoFrameskip-v4_53a30_00000_0_2022-04-03_22-31-26/error.txt</td></tr>\n",
       "</tbody>\n",
       "</table><br>"
      ],
      "text/plain": [
       "<IPython.core.display.HTML object>"
      ]
     },
     "metadata": {},
     "output_type": "display_data"
    },
    {
     "data": {
      "text/html": [
       "== Status ==<br>Current time: 2022-04-03 22:31:34 (running for 00:00:07.56)<br>Memory usage on this node: 9.8/16.0 GiB<br>Using FIFO scheduling algorithm.<br>Resources requested: 0/12 CPUs, 0/0 GPUs, 0.0/4.7 GiB heap, 0.0/2.0 GiB objects<br>Result logdir: /Users/stanleyaraki/ray_results/PPOTrainer_2022-04-03_22-31-26<br>Number of trials: 1/1 (1 ERROR)<br><table>\n",
       "<thead>\n",
       "<tr><th>Trial name                                   </th><th>status  </th><th>loc  </th></tr>\n",
       "</thead>\n",
       "<tbody>\n",
       "<tr><td>PPOTrainer_BreakoutNoFrameskip-v4_53a30_00000</td><td>ERROR   </td><td>     </td></tr>\n",
       "</tbody>\n",
       "</table><br>Number of errored trials: 1<br><table>\n",
       "<thead>\n",
       "<tr><th>Trial name                                   </th><th style=\"text-align: right;\">  # failures</th><th>error file                                                                                                                                  </th></tr>\n",
       "</thead>\n",
       "<tbody>\n",
       "<tr><td>PPOTrainer_BreakoutNoFrameskip-v4_53a30_00000</td><td style=\"text-align: right;\">           1</td><td>/Users/stanleyaraki/ray_results/PPOTrainer_2022-04-03_22-31-26/PPOTrainer_BreakoutNoFrameskip-v4_53a30_00000_0_2022-04-03_22-31-26/error.txt</td></tr>\n",
       "</tbody>\n",
       "</table><br>"
      ],
      "text/plain": [
       "<IPython.core.display.HTML object>"
      ]
     },
     "metadata": {},
     "output_type": "display_data"
    },
    {
     "name": "stderr",
     "output_type": "stream",
     "text": [
      "\u001b[2m\u001b[36m(PPOTrainer pid=1526)\u001b[0m 2022-04-03 22:31:34,044\tERROR worker.py:430 -- Exception raised in creation task: The actor died because of an error raised in its creation task, \u001b[36mray::PPOTrainer.__init__()\u001b[39m (pid=1526, ip=127.0.0.1, repr=PPOTrainer)\n",
      "\u001b[2m\u001b[36m(PPOTrainer pid=1526)\u001b[0m   File \"/Users/stanleyaraki/miniconda3/lib/python3.9/site-packages/ray/rllib/agents/trainer.py\", line 746, in __init__\n",
      "\u001b[2m\u001b[36m(PPOTrainer pid=1526)\u001b[0m     super().__init__(config, logger_creator, remote_checkpoint_dir,\n",
      "\u001b[2m\u001b[36m(PPOTrainer pid=1526)\u001b[0m   File \"/Users/stanleyaraki/miniconda3/lib/python3.9/site-packages/ray/tune/trainable.py\", line 124, in __init__\n",
      "\u001b[2m\u001b[36m(PPOTrainer pid=1526)\u001b[0m     self.setup(copy.deepcopy(self.config))\n",
      "\u001b[2m\u001b[36m(PPOTrainer pid=1526)\u001b[0m   File \"/Users/stanleyaraki/miniconda3/lib/python3.9/site-packages/ray/rllib/agents/trainer.py\", line 759, in setup\n",
      "\u001b[2m\u001b[36m(PPOTrainer pid=1526)\u001b[0m     self.config = self.merge_trainer_configs(\n",
      "\u001b[2m\u001b[36m(PPOTrainer pid=1526)\u001b[0m   File \"/Users/stanleyaraki/miniconda3/lib/python3.9/site-packages/ray/rllib/agents/trainer.py\", line 2077, in merge_trainer_configs\n",
      "\u001b[2m\u001b[36m(PPOTrainer pid=1526)\u001b[0m     return deep_update(config1, config2, _allow_unknown_configs,\n",
      "\u001b[2m\u001b[36m(PPOTrainer pid=1526)\u001b[0m   File \"/Users/stanleyaraki/miniconda3/lib/python3.9/site-packages/ray/util/ml_utils/dict.py\", line 51, in deep_update\n",
      "\u001b[2m\u001b[36m(PPOTrainer pid=1526)\u001b[0m     raise Exception(\"Unknown config parameter `{}` \".format(k))\n",
      "\u001b[2m\u001b[36m(PPOTrainer pid=1526)\u001b[0m Exception: Unknown config parameter `double_q`\n"
     ]
    },
    {
     "ename": "TuneError",
     "evalue": "('Trials did not complete', [PPOTrainer_BreakoutNoFrameskip-v4_53a30_00000])",
     "output_type": "error",
     "traceback": [
      "\u001b[0;31m---------------------------------------------------------------------------\u001b[0m",
      "\u001b[0;31mTuneError\u001b[0m                                 Traceback (most recent call last)",
      "\u001b[1;32m/Users/stanleyaraki/Desktop/Data_Analysis_Portfolio/Proximal-Policy-Optimization/ProximalPolicyOptimization.ipynb Cell 4'\u001b[0m in \u001b[0;36m<module>\u001b[0;34m\u001b[0m\n\u001b[1;32m     <a href='vscode-notebook-cell:/Users/stanleyaraki/Desktop/Data_Analysis_Portfolio/Proximal-Policy-Optimization/ProximalPolicyOptimization.ipynb#ch0000003?line=20'>21</a>\u001b[0m TARGET_REWARD \u001b[39m=\u001b[39m \u001b[39m200\u001b[39m\n\u001b[1;32m     <a href='vscode-notebook-cell:/Users/stanleyaraki/Desktop/Data_Analysis_Portfolio/Proximal-Policy-Optimization/ProximalPolicyOptimization.ipynb#ch0000003?line=21'>22</a>\u001b[0m TRAINER \u001b[39m=\u001b[39m PPOTrainer\n\u001b[0;32m---> <a href='vscode-notebook-cell:/Users/stanleyaraki/Desktop/Data_Analysis_Portfolio/Proximal-Policy-Optimization/ProximalPolicyOptimization.ipynb#ch0000003?line=23'>24</a>\u001b[0m tune\u001b[39m.\u001b[39;49mrun(\n\u001b[1;32m     <a href='vscode-notebook-cell:/Users/stanleyaraki/Desktop/Data_Analysis_Portfolio/Proximal-Policy-Optimization/ProximalPolicyOptimization.ipynb#ch0000003?line=24'>25</a>\u001b[0m     TRAINER,\n\u001b[1;32m     <a href='vscode-notebook-cell:/Users/stanleyaraki/Desktop/Data_Analysis_Portfolio/Proximal-Policy-Optimization/ProximalPolicyOptimization.ipynb#ch0000003?line=25'>26</a>\u001b[0m     stop\u001b[39m=\u001b[39;49m{\u001b[39m\"\u001b[39;49m\u001b[39mepisode_reward_mean\u001b[39;49m\u001b[39m\"\u001b[39;49m: TARGET_REWARD},\n\u001b[1;32m     <a href='vscode-notebook-cell:/Users/stanleyaraki/Desktop/Data_Analysis_Portfolio/Proximal-Policy-Optimization/ProximalPolicyOptimization.ipynb#ch0000003?line=26'>27</a>\u001b[0m     config\u001b[39m=\u001b[39;49m{\n\u001b[1;32m     <a href='vscode-notebook-cell:/Users/stanleyaraki/Desktop/Data_Analysis_Portfolio/Proximal-Policy-Optimization/ProximalPolicyOptimization.ipynb#ch0000003?line=27'>28</a>\u001b[0m       \u001b[39m\"\u001b[39;49m\u001b[39menv\u001b[39;49m\u001b[39m\"\u001b[39;49m: ENV,\n\u001b[1;32m     <a href='vscode-notebook-cell:/Users/stanleyaraki/Desktop/Data_Analysis_Portfolio/Proximal-Policy-Optimization/ProximalPolicyOptimization.ipynb#ch0000003?line=28'>29</a>\u001b[0m       \u001b[39m\"\u001b[39;49m\u001b[39mnum_gpus\u001b[39;49m\u001b[39m\"\u001b[39;49m: \u001b[39m0\u001b[39;49m,  \u001b[39m#1,\u001b[39;49;00m\n\u001b[1;32m     <a href='vscode-notebook-cell:/Users/stanleyaraki/Desktop/Data_Analysis_Portfolio/Proximal-Policy-Optimization/ProximalPolicyOptimization.ipynb#ch0000003?line=29'>30</a>\u001b[0m       \u001b[39m\"\u001b[39;49m\u001b[39mmonitor\u001b[39;49m\u001b[39m\"\u001b[39;49m: \u001b[39mTrue\u001b[39;49;00m,\n\u001b[1;32m     <a href='vscode-notebook-cell:/Users/stanleyaraki/Desktop/Data_Analysis_Portfolio/Proximal-Policy-Optimization/ProximalPolicyOptimization.ipynb#ch0000003?line=30'>31</a>\u001b[0m       \u001b[39m\"\u001b[39;49m\u001b[39mevaluation_num_episodes\u001b[39;49m\u001b[39m\"\u001b[39;49m: \u001b[39m25\u001b[39;49m,\n\u001b[1;32m     <a href='vscode-notebook-cell:/Users/stanleyaraki/Desktop/Data_Analysis_Portfolio/Proximal-Policy-Optimization/ProximalPolicyOptimization.ipynb#ch0000003?line=31'>32</a>\u001b[0m       \u001b[39m\"\u001b[39;49m\u001b[39mnum_workers\u001b[39;49m\u001b[39m\"\u001b[39;49m: \u001b[39m0\u001b[39;49m,\n\u001b[1;32m     <a href='vscode-notebook-cell:/Users/stanleyaraki/Desktop/Data_Analysis_Portfolio/Proximal-Policy-Optimization/ProximalPolicyOptimization.ipynb#ch0000003?line=32'>33</a>\u001b[0m       \u001b[39m# based on https://github.com/ray-project/ray/blob/master/rllib/tuned_examples/dqn/atari-duel-ddqn.yaml\u001b[39;49;00m\n\u001b[1;32m     <a href='vscode-notebook-cell:/Users/stanleyaraki/Desktop/Data_Analysis_Portfolio/Proximal-Policy-Optimization/ProximalPolicyOptimization.ipynb#ch0000003?line=33'>34</a>\u001b[0m       \u001b[39m\"\u001b[39;49m\u001b[39mdouble_q\u001b[39;49m\u001b[39m\"\u001b[39;49m: \u001b[39mTrue\u001b[39;49;00m,\n\u001b[1;32m     <a href='vscode-notebook-cell:/Users/stanleyaraki/Desktop/Data_Analysis_Portfolio/Proximal-Policy-Optimization/ProximalPolicyOptimization.ipynb#ch0000003?line=34'>35</a>\u001b[0m       \u001b[39m\"\u001b[39;49m\u001b[39mdueling\u001b[39;49m\u001b[39m\"\u001b[39;49m: \u001b[39mTrue\u001b[39;49;00m,\n\u001b[1;32m     <a href='vscode-notebook-cell:/Users/stanleyaraki/Desktop/Data_Analysis_Portfolio/Proximal-Policy-Optimization/ProximalPolicyOptimization.ipynb#ch0000003?line=35'>36</a>\u001b[0m       \u001b[39m\"\u001b[39;49m\u001b[39mnum_atoms\u001b[39;49m\u001b[39m\"\u001b[39;49m: \u001b[39m1\u001b[39;49m,\n\u001b[1;32m     <a href='vscode-notebook-cell:/Users/stanleyaraki/Desktop/Data_Analysis_Portfolio/Proximal-Policy-Optimization/ProximalPolicyOptimization.ipynb#ch0000003?line=36'>37</a>\u001b[0m       \u001b[39m\"\u001b[39;49m\u001b[39mnoisy\u001b[39;49m\u001b[39m\"\u001b[39;49m: \u001b[39mFalse\u001b[39;49;00m,\n\u001b[1;32m     <a href='vscode-notebook-cell:/Users/stanleyaraki/Desktop/Data_Analysis_Portfolio/Proximal-Policy-Optimization/ProximalPolicyOptimization.ipynb#ch0000003?line=37'>38</a>\u001b[0m       \u001b[39m\"\u001b[39;49m\u001b[39mprioritized_replay\u001b[39;49m\u001b[39m\"\u001b[39;49m: \u001b[39mFalse\u001b[39;49;00m,\n\u001b[1;32m     <a href='vscode-notebook-cell:/Users/stanleyaraki/Desktop/Data_Analysis_Portfolio/Proximal-Policy-Optimization/ProximalPolicyOptimization.ipynb#ch0000003?line=38'>39</a>\u001b[0m       \u001b[39m\"\u001b[39;49m\u001b[39mn_step\u001b[39;49m\u001b[39m\"\u001b[39;49m: \u001b[39m1\u001b[39;49m,\n\u001b[1;32m     <a href='vscode-notebook-cell:/Users/stanleyaraki/Desktop/Data_Analysis_Portfolio/Proximal-Policy-Optimization/ProximalPolicyOptimization.ipynb#ch0000003?line=39'>40</a>\u001b[0m       \u001b[39m\"\u001b[39;49m\u001b[39mtarget_network_update_freq\u001b[39;49m\u001b[39m\"\u001b[39;49m: \u001b[39m8000\u001b[39;49m,\n\u001b[1;32m     <a href='vscode-notebook-cell:/Users/stanleyaraki/Desktop/Data_Analysis_Portfolio/Proximal-Policy-Optimization/ProximalPolicyOptimization.ipynb#ch0000003?line=40'>41</a>\u001b[0m       \u001b[39m\"\u001b[39;49m\u001b[39mlr\u001b[39;49m\u001b[39m\"\u001b[39;49m: \u001b[39m.0000625\u001b[39;49m,\n\u001b[1;32m     <a href='vscode-notebook-cell:/Users/stanleyaraki/Desktop/Data_Analysis_Portfolio/Proximal-Policy-Optimization/ProximalPolicyOptimization.ipynb#ch0000003?line=41'>42</a>\u001b[0m       \u001b[39m\"\u001b[39;49m\u001b[39madam_epsilon\u001b[39;49m\u001b[39m\"\u001b[39;49m: \u001b[39m.00015\u001b[39;49m,\n\u001b[1;32m     <a href='vscode-notebook-cell:/Users/stanleyaraki/Desktop/Data_Analysis_Portfolio/Proximal-Policy-Optimization/ProximalPolicyOptimization.ipynb#ch0000003?line=42'>43</a>\u001b[0m       \u001b[39m\"\u001b[39;49m\u001b[39mhiddens\u001b[39;49m\u001b[39m\"\u001b[39;49m: [\u001b[39m512\u001b[39;49m],\n\u001b[1;32m     <a href='vscode-notebook-cell:/Users/stanleyaraki/Desktop/Data_Analysis_Portfolio/Proximal-Policy-Optimization/ProximalPolicyOptimization.ipynb#ch0000003?line=43'>44</a>\u001b[0m       \u001b[39m\"\u001b[39;49m\u001b[39mlearning_starts\u001b[39;49m\u001b[39m\"\u001b[39;49m: \u001b[39m20000\u001b[39;49m,\n\u001b[1;32m     <a href='vscode-notebook-cell:/Users/stanleyaraki/Desktop/Data_Analysis_Portfolio/Proximal-Policy-Optimization/ProximalPolicyOptimization.ipynb#ch0000003?line=44'>45</a>\u001b[0m       \u001b[39m\"\u001b[39;49m\u001b[39mbuffer_size\u001b[39;49m\u001b[39m\"\u001b[39;49m: \u001b[39m400_000\u001b[39;49m,\n\u001b[1;32m     <a href='vscode-notebook-cell:/Users/stanleyaraki/Desktop/Data_Analysis_Portfolio/Proximal-Policy-Optimization/ProximalPolicyOptimization.ipynb#ch0000003?line=45'>46</a>\u001b[0m       \u001b[39m\"\u001b[39;49m\u001b[39mrollout_fragment_length\u001b[39;49m\u001b[39m\"\u001b[39;49m: \u001b[39m4\u001b[39;49m,\n\u001b[1;32m     <a href='vscode-notebook-cell:/Users/stanleyaraki/Desktop/Data_Analysis_Portfolio/Proximal-Policy-Optimization/ProximalPolicyOptimization.ipynb#ch0000003?line=46'>47</a>\u001b[0m       \u001b[39m\"\u001b[39;49m\u001b[39mtrain_batch_size\u001b[39;49m\u001b[39m\"\u001b[39;49m: \u001b[39m32\u001b[39;49m,\n\u001b[1;32m     <a href='vscode-notebook-cell:/Users/stanleyaraki/Desktop/Data_Analysis_Portfolio/Proximal-Policy-Optimization/ProximalPolicyOptimization.ipynb#ch0000003?line=47'>48</a>\u001b[0m       \u001b[39m\"\u001b[39;49m\u001b[39mexploration_config\u001b[39;49m\u001b[39m\"\u001b[39;49m: {\n\u001b[1;32m     <a href='vscode-notebook-cell:/Users/stanleyaraki/Desktop/Data_Analysis_Portfolio/Proximal-Policy-Optimization/ProximalPolicyOptimization.ipynb#ch0000003?line=48'>49</a>\u001b[0m         \u001b[39m\"\u001b[39;49m\u001b[39mepsilon_timesteps\u001b[39;49m\u001b[39m\"\u001b[39;49m: \u001b[39m500_000\u001b[39;49m,\n\u001b[1;32m     <a href='vscode-notebook-cell:/Users/stanleyaraki/Desktop/Data_Analysis_Portfolio/Proximal-Policy-Optimization/ProximalPolicyOptimization.ipynb#ch0000003?line=49'>50</a>\u001b[0m         \u001b[39m\"\u001b[39;49m\u001b[39mfinal_epsilon\u001b[39;49m\u001b[39m\"\u001b[39;49m: \u001b[39m0.01\u001b[39;49m,\n\u001b[1;32m     <a href='vscode-notebook-cell:/Users/stanleyaraki/Desktop/Data_Analysis_Portfolio/Proximal-Policy-Optimization/ProximalPolicyOptimization.ipynb#ch0000003?line=50'>51</a>\u001b[0m       },\n\u001b[1;32m     <a href='vscode-notebook-cell:/Users/stanleyaraki/Desktop/Data_Analysis_Portfolio/Proximal-Policy-Optimization/ProximalPolicyOptimization.ipynb#ch0000003?line=51'>52</a>\u001b[0m       \u001b[39m\"\u001b[39;49m\u001b[39mprioritized_replay_alpha\u001b[39;49m\u001b[39m\"\u001b[39;49m: \u001b[39m0.5\u001b[39;49m,\n\u001b[1;32m     <a href='vscode-notebook-cell:/Users/stanleyaraki/Desktop/Data_Analysis_Portfolio/Proximal-Policy-Optimization/ProximalPolicyOptimization.ipynb#ch0000003?line=52'>53</a>\u001b[0m       \u001b[39m\"\u001b[39;49m\u001b[39mfinal_prioritized_replay_beta\u001b[39;49m\u001b[39m\"\u001b[39;49m: \u001b[39m1.0\u001b[39;49m,\n\u001b[1;32m     <a href='vscode-notebook-cell:/Users/stanleyaraki/Desktop/Data_Analysis_Portfolio/Proximal-Policy-Optimization/ProximalPolicyOptimization.ipynb#ch0000003?line=53'>54</a>\u001b[0m       \u001b[39m\"\u001b[39;49m\u001b[39mprioritized_replay_beta_annealing_timesteps\u001b[39;49m\u001b[39m\"\u001b[39;49m: \u001b[39m2_000_000\u001b[39;49m,\n\u001b[1;32m     <a href='vscode-notebook-cell:/Users/stanleyaraki/Desktop/Data_Analysis_Portfolio/Proximal-Policy-Optimization/ProximalPolicyOptimization.ipynb#ch0000003?line=54'>55</a>\u001b[0m       \u001b[39m\"\u001b[39;49m\u001b[39mtimesteps_per_iteration\u001b[39;49m\u001b[39m\"\u001b[39;49m: \u001b[39m10_000\u001b[39;49m,\n\u001b[1;32m     <a href='vscode-notebook-cell:/Users/stanleyaraki/Desktop/Data_Analysis_Portfolio/Proximal-Policy-Optimization/ProximalPolicyOptimization.ipynb#ch0000003?line=55'>56</a>\u001b[0m     }\n\u001b[1;32m     <a href='vscode-notebook-cell:/Users/stanleyaraki/Desktop/Data_Analysis_Portfolio/Proximal-Policy-Optimization/ProximalPolicyOptimization.ipynb#ch0000003?line=56'>57</a>\u001b[0m )\n",
      "File \u001b[0;32m~/miniconda3/lib/python3.9/site-packages/ray/tune/tune.py:633\u001b[0m, in \u001b[0;36mrun\u001b[0;34m(run_or_experiment, name, metric, mode, stop, time_budget_s, config, resources_per_trial, num_samples, local_dir, search_alg, scheduler, keep_checkpoints_num, checkpoint_score_attr, checkpoint_freq, checkpoint_at_end, verbose, progress_reporter, log_to_file, trial_name_creator, trial_dirname_creator, sync_config, export_formats, max_failures, fail_fast, restore, server_port, resume, reuse_actors, trial_executor, raise_on_failed_trial, callbacks, max_concurrent_trials, queue_trials, loggers, _remote)\u001b[0m\n\u001b[1;32m    <a href='file:///Users/stanleyaraki/miniconda3/lib/python3.9/site-packages/ray/tune/tune.py?line=630'>631</a>\u001b[0m \u001b[39mif\u001b[39;00m incomplete_trials:\n\u001b[1;32m    <a href='file:///Users/stanleyaraki/miniconda3/lib/python3.9/site-packages/ray/tune/tune.py?line=631'>632</a>\u001b[0m     \u001b[39mif\u001b[39;00m raise_on_failed_trial \u001b[39mand\u001b[39;00m \u001b[39mnot\u001b[39;00m state[signal\u001b[39m.\u001b[39mSIGINT]:\n\u001b[0;32m--> <a href='file:///Users/stanleyaraki/miniconda3/lib/python3.9/site-packages/ray/tune/tune.py?line=632'>633</a>\u001b[0m         \u001b[39mraise\u001b[39;00m TuneError(\u001b[39m\"\u001b[39m\u001b[39mTrials did not complete\u001b[39m\u001b[39m\"\u001b[39m, incomplete_trials)\n\u001b[1;32m    <a href='file:///Users/stanleyaraki/miniconda3/lib/python3.9/site-packages/ray/tune/tune.py?line=633'>634</a>\u001b[0m     \u001b[39melse\u001b[39;00m:\n\u001b[1;32m    <a href='file:///Users/stanleyaraki/miniconda3/lib/python3.9/site-packages/ray/tune/tune.py?line=634'>635</a>\u001b[0m         logger\u001b[39m.\u001b[39merror(\u001b[39m\"\u001b[39m\u001b[39mTrials did not complete: \u001b[39m\u001b[39m%s\u001b[39;00m\u001b[39m\"\u001b[39m, incomplete_trials)\n",
      "\u001b[0;31mTuneError\u001b[0m: ('Trials did not complete', [PPOTrainer_BreakoutNoFrameskip-v4_53a30_00000])"
     ]
    }
   ],
   "source": [
    "# # import pyvirtualdisplay\n",
    "\n",
    "# # _display = pyvirtualdisplay.Display(visible=False, size=(1400, 900))\n",
    "# # _ = _display.start()\n",
    "\n",
    "# import ray\n",
    "# from ray import tune\n",
    "# from ray.rllib.agents.ppo import PPOTrainer\n",
    "\n",
    "# ray.shutdown()\n",
    "\n",
    "# # twice the conservative memory settings from https://docs.ray.io/en/master/memory-management.html\n",
    "# ray.init(\n",
    "#     # include_webui=False, ignore_reinit_error=True,\n",
    "#     # memory=4000 * 1024 * 1024,\n",
    "#     # object_store_memory=400 * 1024 * 1024,\n",
    "#     # driver_object_store_memory=200 * 1024 * 1024\n",
    "#     )\n",
    "\n",
    "# ENV = \"BreakoutNoFrameskip-v4\"\n",
    "# TARGET_REWARD = 200\n",
    "# TRAINER = PPOTrainer\n",
    "\n",
    "# tune.run(\n",
    "#     TRAINER,\n",
    "#     stop={\"episode_reward_mean\": TARGET_REWARD},\n",
    "#     config={\n",
    "#       \"env\": ENV,\n",
    "#       \"num_gpus\": 0,  #1,\n",
    "#       \"monitor\": True,\n",
    "#       \"evaluation_num_episodes\": 25,\n",
    "#       \"num_workers\": 0,\n",
    "#       # based on https://github.com/ray-project/ray/blob/master/rllib/tuned_examples/dqn/atari-duel-ddqn.yaml\n",
    "#       \"double_q\": True,\n",
    "#       \"dueling\": True,\n",
    "#       \"num_atoms\": 1,\n",
    "#       \"noisy\": False,\n",
    "#       \"prioritized_replay\": False,\n",
    "#       \"n_step\": 1,\n",
    "#       \"target_network_update_freq\": 8000,\n",
    "#       \"lr\": .0000625,\n",
    "#       \"adam_epsilon\": .00015,\n",
    "#       \"hiddens\": [512],\n",
    "#       \"learning_starts\": 20000,\n",
    "#       \"buffer_size\": 400_000,\n",
    "#       \"rollout_fragment_length\": 4,\n",
    "#       \"train_batch_size\": 32,\n",
    "#       \"exploration_config\": {\n",
    "#         \"epsilon_timesteps\": 500_000,\n",
    "#         \"final_epsilon\": 0.01,\n",
    "#       },\n",
    "#       \"prioritized_replay_alpha\": 0.5,\n",
    "#       \"final_prioritized_replay_beta\": 1.0,\n",
    "#       \"prioritized_replay_beta_annealing_timesteps\": 2_000_000,\n",
    "#       \"timesteps_per_iteration\": 10_000,\n",
    "#     }\n",
    "# )"
   ]
  },
  {
   "cell_type": "markdown",
   "metadata": {},
   "source": [
    "**Set up environment for Atari Game**"
   ]
  },
  {
   "cell_type": "code",
   "execution_count": 3,
   "metadata": {},
   "outputs": [
    {
     "name": "stderr",
     "output_type": "stream",
     "text": [
      "A.L.E: Arcade Learning Environment (version 0.7.4+069f8bd)\n",
      "[Powered by Stella]\n"
     ]
    }
   ],
   "source": [
    "def callback(obs_t, obs_tp1, action, rew, done, info):\n",
    "    return [rew]\n",
    "\n",
    "plotter = PlayPlot(callback, 30 * 5, [\"reward\"])\n",
    "env = gym.make(\"Breakout-ramNoFrameskip-v4\")\n",
    "play(env, callback=plotter.callback, zoom=4)\n",
    "\n",
    "# Finally something that works"
   ]
  },
  {
   "cell_type": "markdown",
   "metadata": {},
   "source": [
    "**Set up Proximal Policy Optimization Algorithm**"
   ]
  },
  {
   "cell_type": "markdown",
   "metadata": {},
   "source": []
  }
 ],
 "metadata": {
  "interpreter": {
   "hash": "e96d89988d0d8e7d7a8ab5719ad00aeab7b060c61a49b19476af80724aec9e8a"
  },
  "kernelspec": {
   "display_name": "Python 3.9.7 ('base')",
   "language": "python",
   "name": "python3"
  },
  "language_info": {
   "codemirror_mode": {
    "name": "ipython",
    "version": 3
   },
   "file_extension": ".py",
   "mimetype": "text/x-python",
   "name": "python",
   "nbconvert_exporter": "python",
   "pygments_lexer": "ipython3",
   "version": "3.9.7"
  },
  "orig_nbformat": 4
 },
 "nbformat": 4,
 "nbformat_minor": 2
}
