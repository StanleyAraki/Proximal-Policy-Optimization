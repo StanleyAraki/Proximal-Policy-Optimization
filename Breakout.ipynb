{
 "cells": [
  {
   "cell_type": "markdown",
   "metadata": {},
   "source": [
    "# Import Necessary Libraries"
   ]
  },
  {
   "cell_type": "code",
   "execution_count": 1,
   "metadata": {},
   "outputs": [],
   "source": [
    "import gym\n",
    "import torch\n",
    "import numpy as np\n",
    "from ipynb.fs.full.BreakoutPPO import Agent\n",
    "from utils import plot_learning_curve"
   ]
  },
  {
   "cell_type": "code",
   "execution_count": 2,
   "metadata": {},
   "outputs": [],
   "source": [
    "# Preprocess image(Code from class)\n",
    "def prepro(image):\n",
    "    image = image[35:195]  # crop\n",
    "    image = image[::2, ::2, 0]  # downsample by factor of 2\n",
    "    image[image == 144] = 0  # erase background (background type 1)\n",
    "    image[image == 109] = 0  # erase background (background type 2)\n",
    "    image[image != 0] = 1  # everything else (paddles, ball) just set to 1\n",
    "    return np.reshape(image, (1, 80, 80))\n"
   ]
  },
  {
   "cell_type": "markdown",
   "metadata": {},
   "source": [
    "# Set Up Pong Environment\n",
    "\n",
    "If it works on Pong environment, then it will likely work on the Breakout Environment as well (with a few tweaks)"
   ]
  },
  {
   "cell_type": "code",
   "execution_count": 3,
   "metadata": {},
   "outputs": [
    {
     "name": "stderr",
     "output_type": "stream",
     "text": [
      "A.L.E: Arcade Learning Environment (version 0.7.4+069f8bd)\n",
      "[Powered by Stella]\n",
      "/Users/stanleyaraki/miniconda3/lib/python3.9/site-packages/gym/utils/seeding.py:138: DeprecationWarning: \u001b[33mWARN: Function `hash_seed(seed, max_bytes)` is marked as deprecated and will be removed in the future. \u001b[0m\n",
      "  deprecation(\n",
      "/Users/stanleyaraki/miniconda3/lib/python3.9/site-packages/gym/utils/seeding.py:175: DeprecationWarning: \u001b[33mWARN: Function `_bigint_from_bytes(bytes)` is marked as deprecated and will be removed in the future. \u001b[0m\n",
      "  deprecation(\n",
      "/Users/stanleyaraki/Desktop/Data_Analysis_Portfolio/Proximal-Policy-Optimization/BreakoutPPO.ipynb:159: UserWarning: Creating a tensor from a list of numpy.ndarrays is extremely slow. Please consider converting the list to a single numpy.ndarray with numpy.array() before converting to a tensor. (Triggered internally at  /Users/distiller/project/conda/conda-bld/pytorch_1646756029501/work/torch/csrc/utils/tensor_new.cpp:210.)\n",
      "  \"    def forward(self, state):\\n\",\n"
     ]
    },
    {
     "name": "stdout",
     "output_type": "stream",
     "text": [
      "... loading models ...\n",
      "... saving models ...\n",
      "episode 0 score -21.0 avg score -21.0 time_steps 853 learning_steps 42\n",
      "episode 1 score -21.0 avg score -21.0 time_steps 1758 learning_steps 87\n",
      "episode 2 score -21.0 avg score -21.0 time_steps 2570 learning_steps 128\n",
      "episode 3 score -21.0 avg score -21.0 time_steps 3391 learning_steps 169\n",
      "episode 4 score -21.0 avg score -21.0 time_steps 4240 learning_steps 212\n",
      "episode 5 score -21.0 avg score -21.0 time_steps 5005 learning_steps 250\n",
      "episode 6 score -21.0 avg score -21.0 time_steps 5798 learning_steps 289\n",
      "... saving models ...\n",
      "episode 7 score -20.0 avg score -20.9 time_steps 6753 learning_steps 337\n",
      "episode 8 score -21.0 avg score -20.9 time_steps 7658 learning_steps 382\n",
      "episode 9 score -21.0 avg score -20.9 time_steps 8469 learning_steps 423\n",
      "episode 10 score -21.0 avg score -20.9 time_steps 9290 learning_steps 464\n",
      "episode 11 score -21.0 avg score -20.9 time_steps 10083 learning_steps 504\n",
      "episode 12 score -21.0 avg score -20.9 time_steps 10866 learning_steps 543\n",
      "episode 13 score -21.0 avg score -20.9 time_steps 11687 learning_steps 584\n",
      "episode 14 score -21.0 avg score -20.9 time_steps 12480 learning_steps 624\n",
      "episode 15 score -21.0 avg score -20.9 time_steps 13273 learning_steps 663\n",
      "episode 16 score -21.0 avg score -20.9 time_steps 14066 learning_steps 703\n",
      "episode 17 score -20.0 avg score -20.9 time_steps 14938 learning_steps 746\n",
      "episode 18 score -21.0 avg score -20.9 time_steps 15731 learning_steps 786\n",
      "episode 19 score -21.0 avg score -20.9 time_steps 16525 learning_steps 826\n",
      "episode 20 score -21.0 avg score -20.9 time_steps 17318 learning_steps 865\n",
      "episode 21 score -21.0 avg score -20.9 time_steps 18139 learning_steps 906\n",
      "... saving models ...\n",
      "episode 22 score -20.0 avg score -20.9 time_steps 19011 learning_steps 950\n",
      "episode 23 score -21.0 avg score -20.9 time_steps 19860 learning_steps 993\n",
      "episode 24 score -21.0 avg score -20.9 time_steps 20653 learning_steps 1032\n",
      "... saving models ...\n",
      "episode 25 score -20.0 avg score -20.8 time_steps 21525 learning_steps 1076\n",
      "episode 26 score -21.0 avg score -20.9 time_steps 22309 learning_steps 1115\n",
      "episode 27 score -21.0 avg score -20.9 time_steps 23093 learning_steps 1154\n",
      "episode 28 score -21.0 avg score -20.9 time_steps 23877 learning_steps 1193\n",
      "episode 29 score -21.0 avg score -20.9 time_steps 24698 learning_steps 1234\n",
      "episode 30 score -21.0 avg score -20.9 time_steps 25509 learning_steps 1275\n",
      "episode 31 score -21.0 avg score -20.9 time_steps 26330 learning_steps 1316\n",
      "episode 32 score -21.0 avg score -20.9 time_steps 27123 learning_steps 1356\n",
      "episode 33 score -21.0 avg score -20.9 time_steps 27944 learning_steps 1397\n",
      "episode 34 score -21.0 avg score -20.9 time_steps 28737 learning_steps 1436\n",
      "episode 35 score -21.0 avg score -20.9 time_steps 29530 learning_steps 1476\n",
      "episode 36 score -20.0 avg score -20.9 time_steps 30373 learning_steps 1518\n",
      "episode 37 score -21.0 avg score -20.9 time_steps 31194 learning_steps 1559\n",
      "episode 38 score -21.0 avg score -20.9 time_steps 32048 learning_steps 1602\n",
      "episode 39 score -21.0 avg score -20.9 time_steps 32842 learning_steps 1642\n",
      "episode 40 score -21.0 avg score -20.9 time_steps 33667 learning_steps 1683\n",
      "episode 41 score -21.0 avg score -20.9 time_steps 34513 learning_steps 1725\n",
      "episode 42 score -21.0 avg score -20.9 time_steps 35307 learning_steps 1765\n",
      "episode 43 score -21.0 avg score -20.9 time_steps 36132 learning_steps 1806\n",
      "episode 44 score -21.0 avg score -20.9 time_steps 36957 learning_steps 1847\n",
      "episode 45 score -21.0 avg score -20.9 time_steps 37902 learning_steps 1895\n",
      "episode 46 score -21.0 avg score -20.9 time_steps 38998 learning_steps 1949\n",
      "episode 47 score -21.0 avg score -20.9 time_steps 40004 learning_steps 2000\n",
      "episode 48 score -19.0 avg score -20.9 time_steps 41290 learning_steps 2064\n",
      "... saving models ...\n",
      "episode 49 score -20.0 avg score -20.8 time_steps 42575 learning_steps 2128\n"
     ]
    },
    {
     "data": {
      "image/png": "[encoded data removed]",
      "text/plain": [
       "<Figure size 432x288 with 1 Axes>"
      ]
     },
     "metadata": {
      "needs_background": "light"
     },
     "output_type": "display_data"
    }
   ],
   "source": [
    "if __name__ == '__main__':\n",
    "    env = gym.make('ALE/Pong-v5')\n",
    "    N = 20\n",
    "    batch_size = 5\n",
    "    n_epochs = 4\n",
    "    alpha = 0.0003\n",
    "\n",
    "    raw_image = env.reset()\n",
    "    preprocessed_image = prepro(raw_image) #(1, 80, 80)\n",
    "\n",
    "    flattened = preprocessed_image.flatten()\n",
    "    agent = Agent(num_actions = env.action_space.n, batch_size = 5, alpha = 0.0003, num_epochs = 4, input_dims = flattened.shape)\n",
    "    agent.load_models()\n",
    "    n_games = 50\n",
    "\n",
    "    figure_file = 'plots/Pong.png'\n",
    "\n",
    "    best_score = env.reward_range[0]\n",
    "    score_history = []\n",
    "\n",
    "    learn_iters = 0\n",
    "    avg_score = 0\n",
    "    n_steps = 0\n",
    "\n",
    "    for i in range(n_games): # 103 min 8.8 sec for 300 iterations\n",
    "        observation = env.reset()\n",
    "        done = False\n",
    "        score = 0\n",
    "        while not done:\n",
    "            observation = prepro(observation) # need to preprocess each time\n",
    "            action, prob, val = agent.choose_action(observation)\n",
    "            observation_, reward, done, info = env.step(action)\n",
    "            n_steps += 1\n",
    "            score += reward\n",
    "            agent.remember(observation, action, prob, val, reward, done)\n",
    "            if n_steps % N == 0: # if true, it's time to perform learning function\n",
    "                agent.learn()\n",
    "                learn_iters += 1\n",
    "            observation = observation_\n",
    "        score_history.append(score)\n",
    "        avg_score = np.mean(score_history[-100:])\n",
    "\n",
    "        if avg_score > best_score: # if best score found\n",
    "            best_score = avg_score\n",
    "            agent.save_models()\n",
    "\n",
    "        print('episode', i, 'score %.1f' % score, 'avg score %.1f' % avg_score,\n",
    "                'time_steps', n_steps, 'learning_steps', learn_iters)\n",
    "    x = [i+1 for i in range(len(score_history))]\n",
    "    plot_learning_curve(x, score_history, figure_file, \"Training Episodes\", \"Average Scores\")"
   ]
  },
  {
   "cell_type": "markdown",
   "metadata": {},
   "source": [
    "# Load previous Checkpoint"
   ]
  },
  {
   "cell_type": "code",
   "execution_count": null,
   "metadata": {},
   "outputs": [],
   "source": [
    "agent.load_models()"
   ]
  }
 ],
 "metadata": {
  "interpreter": {
   "hash": "e96d89988d0d8e7d7a8ab5719ad00aeab7b060c61a49b19476af80724aec9e8a"
  },
  "kernelspec": {
   "display_name": "Python 3.9.7 ('base')",
   "language": "python",
   "name": "python3"
  },
  "language_info": {
   "codemirror_mode": {
    "name": "ipython",
    "version": 3
   },
   "file_extension": ".py",
   "mimetype": "text/x-python",
   "name": "python",
   "nbconvert_exporter": "python",
   "pygments_lexer": "ipython3",
   "version": "3.9.7"
  },
  "orig_nbformat": 4
 },
 "nbformat": 4,
 "nbformat_minor": 2
}
