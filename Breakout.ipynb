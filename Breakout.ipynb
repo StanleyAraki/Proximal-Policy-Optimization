{
 "cells": [
  {
   "cell_type": "markdown",
   "metadata": {},
   "source": [
    "# Import necessary Libraries"
   ]
  },
  {
   "cell_type": "code",
   "execution_count": 1,
   "metadata": {},
   "outputs": [],
   "source": [
    "import gym\n",
    "import torch\n",
    "import numpy as np\n",
    "from ipynb.fs.full.BreakoutPPO import Agent\n",
    "from utils import plot_learning_curve"
   ]
  },
  {
   "cell_type": "markdown",
   "metadata": {},
   "source": [
    "# Preprocess Breakout Environment for Faster Training"
   ]
  },
  {
   "cell_type": "code",
   "execution_count": 2,
   "metadata": {},
   "outputs": [],
   "source": [
    "# Preprocess image(Code from class)\n",
    "def prepro(image):\n",
    "    image = image[35:195]  # crop\n",
    "    image = image[::2, ::2, 0]  # downsample by factor of 2\n",
    "    image[image == 144] = 0  # erase background (background type 1)\n",
    "    image[image == 109] = 0  # erase background (background type 2)\n",
    "    image[image != 0] = 1  # everything else (paddles, ball) just set to 1\n",
    "    return np.reshape(image, (1, 80, 80))"
   ]
  },
  {
   "cell_type": "markdown",
   "metadata": {},
   "source": [
    "# Setup Breakout Environment"
   ]
  },
  {
   "cell_type": "code",
   "execution_count": 3,
   "metadata": {},
   "outputs": [
    {
     "name": "stderr",
     "output_type": "stream",
     "text": [
      "A.L.E: Arcade Learning Environment (version 0.7.4+069f8bd)\n",
      "[Powered by Stella]\n",
      "/Users/stanleyaraki/miniconda3/lib/python3.9/site-packages/gym/utils/seeding.py:138: DeprecationWarning: \u001b[33mWARN: Function `hash_seed(seed, max_bytes)` is marked as deprecated and will be removed in the future. \u001b[0m\n",
      "  deprecation(\n",
      "/Users/stanleyaraki/miniconda3/lib/python3.9/site-packages/gym/utils/seeding.py:175: DeprecationWarning: \u001b[33mWARN: Function `_bigint_from_bytes(bytes)` is marked as deprecated and will be removed in the future. \u001b[0m\n",
      "  deprecation(\n",
      "/Users/stanleyaraki/Desktop/PPO_389/Proximal-Policy-Optimization/BreakoutPPO.ipynb:162: UserWarning: Creating a tensor from a list of numpy.ndarrays is extremely slow. Please consider converting the list to a single numpy.ndarray with numpy.array() before converting to a tensor. (Triggered internally at  /Users/distiller/project/conda/conda-bld/pytorch_1646756029501/work/torch/csrc/utils/tensor_new.cpp:210.)\n",
      "  \"        value = value.reshape((-1, 7*7*64)) # before going to linear layer\\n\",\n"
     ]
    },
    {
     "name": "stdout",
     "output_type": "stream",
     "text": [
      "... loading models ...\n",
      "... saving models ...\n",
      "episode 0 score 2.0 avg score 2.0 time_steps 204 learning_steps 10\n",
      "episode 1 score 2.0 avg score 2.0 time_steps 402 learning_steps 20\n",
      "episode 2 score 0.0 avg score 1.3 time_steps 525 learning_steps 26\n",
      "episode 3 score 2.0 avg score 1.5 time_steps 723 learning_steps 36\n",
      "episode 4 score 2.0 avg score 1.6 time_steps 923 learning_steps 46\n",
      "episode 5 score 0.0 avg score 1.3 time_steps 1046 learning_steps 52\n",
      "episode 6 score 0.0 avg score 1.1 time_steps 1169 learning_steps 58\n",
      "episode 7 score 0.0 avg score 1.0 time_steps 1294 learning_steps 64\n",
      "episode 8 score 0.0 avg score 0.9 time_steps 1422 learning_steps 71\n",
      "episode 9 score 2.0 avg score 1.0 time_steps 1620 learning_steps 81\n",
      "episode 10 score 0.0 avg score 0.9 time_steps 1743 learning_steps 87\n",
      "episode 11 score 0.0 avg score 0.8 time_steps 1866 learning_steps 93\n",
      "episode 12 score 0.0 avg score 0.8 time_steps 1989 learning_steps 99\n",
      "episode 13 score 0.0 avg score 0.7 time_steps 2112 learning_steps 105\n",
      "episode 14 score 0.0 avg score 0.7 time_steps 2235 learning_steps 111\n"
     ]
    },
    {
     "data": {
      "image/png": "[encoded data removed]",
      "text/plain": [
       "<Figure size 432x288 with 1 Axes>"
      ]
     },
     "metadata": {
      "needs_background": "light"
     },
     "output_type": "display_data"
    }
   ],
   "source": [
    "if __name__ == '__main__':\n",
    "    env = gym.make('BreakoutDeterministic-v4')\n",
    "    N = 20\n",
    "    batch_size = 5\n",
    "    n_epochs = 4\n",
    "    alpha = 0.0003 # learning rate / epsilon value I think\n",
    "\n",
    "    raw_image = env.reset()\n",
    "    preprocessed_image = prepro(raw_image)  # (1, 80, 80)\n",
    "\n",
    "    flattened = preprocessed_image.flatten()\n",
    "    agent = Agent(num_actions=env.action_space.n, batch_size=5,\n",
    "                  alpha=0.0003, num_epochs=4, input_dims=preprocessed_image.shape)\n",
    "    n_games = 15  # 45 mins for 100 iterations of training\n",
    "\n",
    "    figure_file = 'plots/Breakout_Conv.png'\n",
    "\n",
    "    best_score = env.reward_range[0]\n",
    "    score_history = []\n",
    "\n",
    "    learn_iters = 0\n",
    "    avg_score = 0\n",
    "    n_steps = 0\n",
    "\n",
    "    # Load model\n",
    "    agent.load_models()\n",
    "\n",
    "    for i in range(n_games):\n",
    "        observation = env.reset()\n",
    "        done = False\n",
    "        score = 0\n",
    "        while not done:\n",
    "            observation = prepro(observation)  # need to preprocess each time\n",
    "            action, prob, val = agent.choose_action(observation)\n",
    "            observation_, reward, done, info = env.step(action)\n",
    "            n_steps += 1\n",
    "            score += reward\n",
    "            agent.remember(observation, action, prob, val, reward, done)\n",
    "            if n_steps % N == 0:  # if true, it's time to perform learning function\n",
    "                agent.learn()\n",
    "                learn_iters += 1\n",
    "            observation = observation_\n",
    "        score_history.append(score)\n",
    "        avg_score = np.mean(score_history[-100:])\n",
    "\n",
    "        if avg_score > best_score:  # if best score found\n",
    "            best_score = avg_score\n",
    "            agent.save_models()\n",
    "\n",
    "        print('episode', i, 'score %.1f' % score, 'avg score %.1f' % avg_score,\n",
    "              'time_steps', n_steps, 'learning_steps', learn_iters)\n",
    "    x = [i+1 for i in range(len(score_history))]\n",
    "    plot_learning_curve(x, score_history, figure_file,\n",
    "                        \"Training Episodes\", \"Average Scores\", \"Breakout\")\n"
   ]
  },
  {
   "cell_type": "code",
   "execution_count": null,
   "metadata": {},
   "outputs": [],
   "source": []
  }
 ],
 "metadata": {
  "interpreter": {
   "hash": "e96d89988d0d8e7d7a8ab5719ad00aeab7b060c61a49b19476af80724aec9e8a"
  },
  "kernelspec": {
   "display_name": "Python 3.9.7 ('base')",
   "language": "python",
   "name": "python3"
  },
  "language_info": {
   "codemirror_mode": {
    "name": "ipython",
    "version": 3
   },
   "file_extension": ".py",
   "mimetype": "text/x-python",
   "name": "python",
   "nbconvert_exporter": "python",
   "pygments_lexer": "ipython3",
   "version": "3.9.7"
  },
  "orig_nbformat": 4
 },
 "nbformat": 4,
 "nbformat_minor": 2
}
