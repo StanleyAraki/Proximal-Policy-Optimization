{
 "cells": [
  {
   "cell_type": "markdown",
   "metadata": {},
   "source": [
    "# Import necessary Libraries"
   ]
  },
  {
   "cell_type": "code",
   "execution_count": 1,
   "metadata": {},
   "outputs": [],
   "source": [
    "import gym\n",
    "import torch\n",
    "import numpy as np\n",
    "from ipynb.fs.full.BreakoutPPO import Agent\n",
    "from utils import plot_learning_curve"
   ]
  },
  {
   "cell_type": "markdown",
   "metadata": {},
   "source": [
    "# Preprocess Breakout Environment for Faster Training"
   ]
  },
  {
   "cell_type": "code",
   "execution_count": 2,
   "metadata": {},
   "outputs": [],
   "source": [
    "# Preprocess image(Code from class)\n",
    "def prepro(image):\n",
    "    image = image[35:195]  # crop\n",
    "    image = image[::2, ::2, 0]  # downsample by factor of 2\n",
    "    image[image == 144] = 0  # erase background (background type 1)\n",
    "    image[image == 109] = 0  # erase background (background type 2)\n",
    "    image[image != 0] = 1  # everything else (paddles, ball) just set to 1\n",
    "    return np.reshape(image, (1, 80, 80))"
   ]
  },
  {
   "cell_type": "markdown",
   "metadata": {},
   "source": [
    "# Setup Breakout Environment"
   ]
  },
  {
   "cell_type": "code",
   "execution_count": 5,
   "metadata": {},
   "outputs": [
    {
     "name": "stderr",
     "output_type": "stream",
     "text": [
      "/Users/stanleyaraki/miniconda3/lib/python3.9/site-packages/gym/utils/seeding.py:138: DeprecationWarning: \u001b[33mWARN: Function `hash_seed(seed, max_bytes)` is marked as deprecated and will be removed in the future. \u001b[0m\n",
      "  deprecation(\n",
      "/Users/stanleyaraki/miniconda3/lib/python3.9/site-packages/gym/utils/seeding.py:175: DeprecationWarning: \u001b[33mWARN: Function `_bigint_from_bytes(bytes)` is marked as deprecated and will be removed in the future. \u001b[0m\n",
      "  deprecation(\n"
     ]
    },
    {
     "name": "stdout",
     "output_type": "stream",
     "text": [
      "... loading models ...\n",
      "... saving models ...\n",
      "episode 0 score 0.0 avg score 0.0 time_steps 251 learning_steps 12\n",
      "... saving models ...\n",
      "episode 1 score 7.0 avg score 3.5 time_steps 772 learning_steps 38\n",
      "episode 2 score 2.0 avg score 3.0 time_steps 1074 learning_steps 53\n",
      "episode 3 score 3.0 avg score 3.0 time_steps 1297 learning_steps 64\n",
      "episode 4 score 4.0 avg score 3.2 time_steps 1542 learning_steps 77\n",
      "... saving models ...\n",
      "episode 5 score 11.0 avg score 4.5 time_steps 2227 learning_steps 111\n",
      "... saving models ...\n",
      "episode 6 score 7.0 avg score 4.9 time_steps 2628 learning_steps 131\n",
      "episode 7 score 1.0 avg score 4.4 time_steps 2779 learning_steps 138\n",
      "episode 8 score 6.0 avg score 4.6 time_steps 3112 learning_steps 155\n",
      "episode 9 score 7.0 avg score 4.8 time_steps 3360 learning_steps 168\n",
      "episode 10 score 3.0 avg score 4.6 time_steps 3585 learning_steps 179\n",
      "... saving models ...\n",
      "episode 11 score 11.0 avg score 5.2 time_steps 3938 learning_steps 196\n",
      "... saving models ...\n",
      "episode 12 score 11.0 avg score 5.6 time_steps 4372 learning_steps 218\n",
      "... saving models ...\n",
      "episode 13 score 11.0 avg score 6.0 time_steps 12078 learning_steps 603\n",
      "episode 14 score 2.0 avg score 5.7 time_steps 112078 learning_steps 5603\n",
      "episode 15 score 1.0 avg score 5.4 time_steps 112234 learning_steps 5611\n",
      "episode 16 score 2.0 avg score 5.2 time_steps 112433 learning_steps 5621\n",
      "episode 17 score 1.0 avg score 5.0 time_steps 112595 learning_steps 5629\n",
      "episode 18 score 4.0 avg score 4.9 time_steps 112888 learning_steps 5644\n",
      "episode 19 score 1.0 avg score 4.8 time_steps 113044 learning_steps 5652\n",
      "episode 20 score 1.0 avg score 4.6 time_steps 113202 learning_steps 5660\n",
      "episode 21 score 1.0 avg score 4.4 time_steps 113362 learning_steps 5668\n",
      "episode 22 score 0.0 avg score 4.2 time_steps 113489 learning_steps 5674\n",
      "episode 23 score 3.0 avg score 4.2 time_steps 113716 learning_steps 5685\n",
      "episode 24 score 3.0 avg score 4.1 time_steps 113947 learning_steps 5697\n",
      "episode 25 score 2.0 avg score 4.0 time_steps 114134 learning_steps 5706\n",
      "episode 26 score 2.0 avg score 4.0 time_steps 114344 learning_steps 5717\n",
      "episode 27 score 2.0 avg score 3.9 time_steps 114536 learning_steps 5726\n",
      "episode 28 score 5.0 avg score 3.9 time_steps 114852 learning_steps 5742\n",
      "episode 29 score 1.0 avg score 3.8 time_steps 115006 learning_steps 5750\n",
      "episode 30 score 3.0 avg score 3.8 time_steps 115232 learning_steps 5761\n",
      "episode 31 score 3.0 avg score 3.8 time_steps 115456 learning_steps 5772\n",
      "episode 32 score 2.0 avg score 3.7 time_steps 115661 learning_steps 5783\n",
      "episode 33 score 3.0 avg score 3.7 time_steps 115884 learning_steps 5794\n",
      "episode 34 score 3.0 avg score 3.7 time_steps 116139 learning_steps 5806\n",
      "episode 35 score 7.0 avg score 3.8 time_steps 116525 learning_steps 5826\n",
      "episode 36 score 3.0 avg score 3.8 time_steps 116778 learning_steps 5838\n",
      "episode 37 score 3.0 avg score 3.7 time_steps 117001 learning_steps 5850\n",
      "episode 38 score 5.0 avg score 3.8 time_steps 117312 learning_steps 5865\n",
      "episode 39 score 1.0 avg score 3.7 time_steps 117469 learning_steps 5873\n",
      "episode 40 score 4.0 avg score 3.7 time_steps 117738 learning_steps 5886\n",
      "episode 41 score 1.0 avg score 3.6 time_steps 117893 learning_steps 5894\n",
      "episode 42 score 1.0 avg score 3.6 time_steps 118063 learning_steps 5903\n",
      "episode 43 score 1.0 avg score 3.5 time_steps 118242 learning_steps 5912\n",
      "episode 44 score 2.0 avg score 3.5 time_steps 118481 learning_steps 5924\n",
      "episode 45 score 2.0 avg score 3.5 time_steps 118672 learning_steps 5933\n",
      "episode 46 score 1.0 avg score 3.4 time_steps 118824 learning_steps 5941\n",
      "episode 47 score 2.0 avg score 3.4 time_steps 119047 learning_steps 5952\n",
      "episode 48 score 0.0 avg score 3.3 time_steps 119191 learning_steps 5959\n",
      "episode 49 score 1.0 avg score 3.3 time_steps 119365 learning_steps 5968\n",
      "episode 50 score 1.0 avg score 3.2 time_steps 119524 learning_steps 5976\n",
      "episode 51 score 0.0 avg score 3.2 time_steps 119673 learning_steps 5983\n",
      "episode 52 score 6.0 avg score 3.2 time_steps 120006 learning_steps 6000\n",
      "episode 53 score 0.0 avg score 3.1 time_steps 120134 learning_steps 6006\n",
      "episode 54 score 2.0 avg score 3.1 time_steps 120324 learning_steps 6016\n",
      "episode 55 score 3.0 avg score 3.1 time_steps 120569 learning_steps 6028\n",
      "episode 56 score 2.0 avg score 3.1 time_steps 120772 learning_steps 6038\n",
      "episode 57 score 0.0 avg score 3.1 time_steps 120908 learning_steps 6045\n",
      "episode 58 score 0.0 avg score 3.0 time_steps 121039 learning_steps 6051\n",
      "episode 59 score 1.0 avg score 3.0 time_steps 121199 learning_steps 6059\n",
      "episode 60 score 2.0 avg score 3.0 time_steps 121385 learning_steps 6069\n",
      "episode 61 score 1.0 avg score 2.9 time_steps 121546 learning_steps 6077\n",
      "episode 62 score 2.0 avg score 2.9 time_steps 121736 learning_steps 6086\n",
      "episode 63 score 3.0 avg score 2.9 time_steps 121994 learning_steps 6099\n",
      "episode 64 score 1.0 avg score 2.9 time_steps 122166 learning_steps 6108\n",
      "episode 65 score 5.0 avg score 2.9 time_steps 122502 learning_steps 6125\n",
      "episode 66 score 2.0 avg score 2.9 time_steps 122686 learning_steps 6134\n",
      "episode 67 score 3.0 avg score 2.9 time_steps 122925 learning_steps 6146\n",
      "episode 68 score 4.0 avg score 2.9 time_steps 123199 learning_steps 6159\n",
      "episode 69 score 1.0 avg score 2.9 time_steps 123354 learning_steps 6167\n",
      "episode 70 score 3.0 avg score 2.9 time_steps 123578 learning_steps 6178\n",
      "episode 71 score 0.0 avg score 2.8 time_steps 123707 learning_steps 6185\n",
      "episode 72 score 4.0 avg score 2.9 time_steps 123977 learning_steps 6198\n",
      "episode 73 score 1.0 avg score 2.8 time_steps 124141 learning_steps 6207\n",
      "episode 74 score 3.0 avg score 2.8 time_steps 124370 learning_steps 6218\n",
      "episode 75 score 2.0 avg score 2.8 time_steps 124576 learning_steps 6228\n",
      "episode 76 score 1.0 avg score 2.8 time_steps 124736 learning_steps 6236\n",
      "episode 77 score 0.0 avg score 2.8 time_steps 124866 learning_steps 6243\n",
      "episode 78 score 3.0 avg score 2.8 time_steps 125089 learning_steps 6254\n",
      "episode 79 score 2.0 avg score 2.8 time_steps 125286 learning_steps 6264\n",
      "episode 80 score 2.0 avg score 2.8 time_steps 125498 learning_steps 6274\n",
      "episode 81 score 0.0 avg score 2.7 time_steps 125625 learning_steps 6281\n",
      "episode 82 score 3.0 avg score 2.7 time_steps 125867 learning_steps 6293\n",
      "episode 83 score 2.0 avg score 2.7 time_steps 126076 learning_steps 6303\n",
      "episode 84 score 2.0 avg score 2.7 time_steps 126277 learning_steps 6313\n",
      "episode 85 score 3.0 avg score 2.7 time_steps 126556 learning_steps 6327\n",
      "episode 86 score 3.0 avg score 2.7 time_steps 126785 learning_steps 6339\n",
      "episode 87 score 0.0 avg score 2.7 time_steps 126916 learning_steps 6345\n",
      "episode 88 score 1.0 avg score 2.7 time_steps 127094 learning_steps 6354\n",
      "episode 89 score 1.0 avg score 2.6 time_steps 127257 learning_steps 6362\n",
      "episode 90 score 2.0 avg score 2.6 time_steps 127466 learning_steps 6373\n",
      "episode 91 score 1.0 avg score 2.6 time_steps 127634 learning_steps 6381\n",
      "episode 92 score 3.0 avg score 2.6 time_steps 127873 learning_steps 6393\n",
      "episode 93 score 4.0 avg score 2.6 time_steps 128172 learning_steps 6408\n",
      "episode 94 score 1.0 avg score 2.6 time_steps 128330 learning_steps 6416\n",
      "episode 95 score 5.0 avg score 2.6 time_steps 128668 learning_steps 6433\n",
      "episode 96 score 4.0 avg score 2.7 time_steps 128955 learning_steps 6447\n",
      "episode 97 score 1.0 avg score 2.6 time_steps 129136 learning_steps 6456\n",
      "episode 98 score 0.0 avg score 2.6 time_steps 129278 learning_steps 6463\n",
      "episode 99 score 1.0 avg score 2.6 time_steps 129447 learning_steps 6472\n"
     ]
    },
    {
     "data": {
      "image/png": "[encoded data removed]",
      "text/plain": [
       "<Figure size 432x288 with 1 Axes>"
      ]
     },
     "metadata": {
      "needs_background": "light"
     },
     "output_type": "display_data"
    }
   ],
   "source": [
    "if __name__ == '__main__':\n",
    "    env = gym.make('BreakoutDeterministic-v4')\n",
    "    N = 20\n",
    "    batch_size = 5\n",
    "    n_epochs = 4\n",
    "    alpha = 0.0003\n",
    "\n",
    "    raw_image = env.reset()\n",
    "    preprocessed_image = prepro(raw_image) #(1, 80, 80)\n",
    "\n",
    "    flattened = preprocessed_image.flatten()\n",
    "    agent = Agent(num_actions = env.action_space.n, batch_size = 5, alpha = 0.0003, num_epochs = 4, input_dims = flattened.shape)\n",
    "    n_games = 100 # 45 mins for 100 iterations of training\n",
    "\n",
    "    figure_file = 'plots/Breakout.png'\n",
    "\n",
    "    best_score = env.reward_range[0]\n",
    "    score_history = []\n",
    "\n",
    "    learn_iters = 0\n",
    "    avg_score = 0\n",
    "    n_steps = 0\n",
    "\n",
    "    # Load model\n",
    "    agent.load_models()\n",
    "    \n",
    "    for i in range(n_games): \n",
    "        observation = env.reset()\n",
    "        done = False\n",
    "        score = 0\n",
    "        while not done:\n",
    "            observation = prepro(observation) # need to preprocess each time\n",
    "            action, prob, val = agent.choose_action(observation)\n",
    "            observation_, reward, done, info = env.step(action)\n",
    "            n_steps += 1\n",
    "            score += reward\n",
    "            agent.remember(observation, action, prob, val, reward, done)\n",
    "            if n_steps % N == 0: # if true, it's time to perform learning function\n",
    "                agent.learn()\n",
    "                learn_iters += 1\n",
    "            observation = observation_\n",
    "        score_history.append(score)\n",
    "        avg_score = np.mean(score_history[-100:])\n",
    "\n",
    "        if avg_score > best_score: # if best score found\n",
    "            best_score = avg_score\n",
    "            agent.save_models()\n",
    "\n",
    "        print('episode', i, 'score %.1f' % score, 'avg score %.1f' % avg_score,\n",
    "                'time_steps', n_steps, 'learning_steps', learn_iters)\n",
    "    x = [i+1 for i in range(len(score_history))]\n",
    "    plot_learning_curve(x, score_history, figure_file, \"Training Episodes\", \"Average Scores\")"
   ]
  },
  {
   "cell_type": "code",
   "execution_count": null,
   "metadata": {},
   "outputs": [],
   "source": []
  }
 ],
 "metadata": {
  "interpreter": {
   "hash": "e96d89988d0d8e7d7a8ab5719ad00aeab7b060c61a49b19476af80724aec9e8a"
  },
  "kernelspec": {
   "display_name": "Python 3.9.7 ('base')",
   "language": "python",
   "name": "python3"
  },
  "language_info": {
   "codemirror_mode": {
    "name": "ipython",
    "version": 3
   },
   "file_extension": ".py",
   "mimetype": "text/x-python",
   "name": "python",
   "nbconvert_exporter": "python",
   "pygments_lexer": "ipython3",
   "version": "3.9.7"
  },
  "orig_nbformat": 4
 },
 "nbformat": 4,
 "nbformat_minor": 2
}
