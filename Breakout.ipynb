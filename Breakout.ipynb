{
 "cells": [
  {
   "cell_type": "markdown",
   "metadata": {},
   "source": [
    "# Import Necessary Libraries"
   ]
  },
  {
   "cell_type": "code",
   "execution_count": 1,
   "metadata": {},
   "outputs": [],
   "source": [
    "import gym\n",
    "import torch\n",
    "import numpy as np\n",
    "from ipynb.fs.full.BreakoutPPO import Agent\n",
    "from utils import plot_learning_curve"
   ]
  },
  {
   "cell_type": "markdown",
   "metadata": {},
   "source": [
    "# Preprocess Pong Environment for faster training"
   ]
  },
  {
   "cell_type": "code",
   "execution_count": 2,
   "metadata": {},
   "outputs": [],
   "source": [
    "# Preprocess image(Code from class)\n",
    "def prepro(image):\n",
    "    image = image[35:195]  # crop\n",
    "    image = image[::2, ::2, 0]  # downsample by factor of 2\n",
    "    image[image == 144] = 0  # erase background (background type 1)\n",
    "    image[image == 109] = 0  # erase background (background type 2)\n",
    "    image[image != 0] = 1  # everything else (paddles, ball) just set to 1\n",
    "    return np.reshape(image, (1, 80, 80))\n"
   ]
  },
  {
   "cell_type": "markdown",
   "metadata": {},
   "source": [
    "# Set Up Pong Environment\n",
    "\n",
    "If it works on Pong environment, then it will likely work on the Breakout Environment as well (with a few tweaks)"
   ]
  },
  {
   "cell_type": "code",
   "execution_count": 4,
   "metadata": {},
   "outputs": [
    {
     "name": "stderr",
     "output_type": "stream",
     "text": [
      "/Users/stanleyaraki/Desktop/PPO_389/Proximal-Policy-Optimization/BreakoutPPO.ipynb:159: UserWarning: Creating a tensor from a list of numpy.ndarrays is extremely slow. Please consider converting the list to a single numpy.ndarray with numpy.array() before converting to a tensor. (Triggered internally at  /Users/distiller/project/conda/conda-bld/pytorch_1646756029501/work/torch/csrc/utils/tensor_new.cpp:210.)\n",
      "  \"    def forward(self, state):\\n\",\n"
     ]
    },
    {
     "name": "stdout",
     "output_type": "stream",
     "text": [
      "... saving models ...\n",
      "episode 0 score -20.0 avg score -20.0 time_steps 904 learning_steps 45\n",
      "episode 1 score -21.0 avg score -20.5 time_steps 1849 learning_steps 92\n",
      "episode 2 score -21.0 avg score -20.7 time_steps 2614 learning_steps 130\n",
      "episode 3 score -19.0 avg score -20.2 time_steps 3583 learning_steps 179\n",
      "episode 4 score -21.0 avg score -20.4 time_steps 4348 learning_steps 217\n",
      "episode 5 score -21.0 avg score -20.5 time_steps 5113 learning_steps 255\n",
      "episode 6 score -21.0 avg score -20.6 time_steps 5878 learning_steps 293\n",
      "episode 7 score -21.0 avg score -20.6 time_steps 6643 learning_steps 332\n",
      "episode 8 score -21.0 avg score -20.7 time_steps 7427 learning_steps 371\n",
      "episode 9 score -21.0 avg score -20.7 time_steps 8286 learning_steps 414\n",
      "episode 10 score -19.0 avg score -20.5 time_steps 9367 learning_steps 468\n",
      "episode 11 score -20.0 avg score -20.5 time_steps 10331 learning_steps 516\n",
      "episode 12 score -19.0 avg score -20.4 time_steps 11365 learning_steps 568\n",
      "episode 13 score -18.0 avg score -20.2 time_steps 12594 learning_steps 629\n",
      "episode 14 score -17.0 avg score -20.0 time_steps 13764 learning_steps 688\n",
      "episode 15 score -21.0 avg score -20.1 time_steps 14529 learning_steps 726\n",
      "episode 16 score -21.0 avg score -20.1 time_steps 15294 learning_steps 764\n",
      "episode 17 score -21.0 avg score -20.2 time_steps 16059 learning_steps 802\n",
      "episode 18 score -21.0 avg score -20.2 time_steps 16824 learning_steps 841\n",
      "episode 19 score -21.0 avg score -20.2 time_steps 17589 learning_steps 879\n",
      "episode 20 score -21.0 avg score -20.3 time_steps 18609 learning_steps 930\n",
      "episode 21 score -20.0 avg score -20.3 time_steps 19700 learning_steps 985\n",
      "episode 22 score -20.0 avg score -20.3 time_steps 20574 learning_steps 1028\n",
      "episode 23 score -19.0 avg score -20.2 time_steps 21678 learning_steps 1083\n",
      "episode 24 score -21.0 avg score -20.2 time_steps 22558 learning_steps 1127\n",
      "episode 25 score -20.0 avg score -20.2 time_steps 23397 learning_steps 1169\n",
      "episode 26 score -20.0 avg score -20.2 time_steps 24236 learning_steps 1211\n",
      "episode 27 score -20.0 avg score -20.2 time_steps 25075 learning_steps 1253\n",
      "episode 28 score -21.0 avg score -20.2 time_steps 25859 learning_steps 1292\n",
      "episode 29 score -20.0 avg score -20.2 time_steps 26698 learning_steps 1334\n",
      "episode 30 score -20.0 avg score -20.2 time_steps 27537 learning_steps 1376\n",
      "episode 31 score -20.0 avg score -20.2 time_steps 28376 learning_steps 1418\n",
      "episode 32 score -20.0 avg score -20.2 time_steps 29215 learning_steps 1460\n",
      "episode 33 score -21.0 avg score -20.2 time_steps 29999 learning_steps 1499\n",
      "episode 34 score -20.0 avg score -20.2 time_steps 30838 learning_steps 1541\n",
      "episode 35 score -21.0 avg score -20.2 time_steps 31633 learning_steps 1581\n",
      "episode 36 score -21.0 avg score -20.3 time_steps 32417 learning_steps 1620\n",
      "episode 37 score -20.0 avg score -20.3 time_steps 33256 learning_steps 1662\n",
      "episode 38 score -21.0 avg score -20.3 time_steps 34051 learning_steps 1702\n",
      "episode 39 score -21.0 avg score -20.3 time_steps 35062 learning_steps 1753\n",
      "episode 40 score -21.0 avg score -20.3 time_steps 35889 learning_steps 1794\n",
      "episode 41 score -20.0 avg score -20.3 time_steps 36728 learning_steps 1836\n",
      "episode 42 score -21.0 avg score -20.3 time_steps 37512 learning_steps 1875\n",
      "episode 43 score -21.0 avg score -20.3 time_steps 38296 learning_steps 1914\n",
      "episode 44 score -21.0 avg score -20.4 time_steps 39080 learning_steps 1954\n",
      "episode 45 score -21.0 avg score -20.4 time_steps 39864 learning_steps 1993\n",
      "episode 46 score -21.0 avg score -20.4 time_steps 40648 learning_steps 2032\n",
      "episode 47 score -20.0 avg score -20.4 time_steps 41487 learning_steps 2074\n",
      "episode 48 score -21.0 avg score -20.4 time_steps 42271 learning_steps 2113\n",
      "episode 49 score -20.0 avg score -20.4 time_steps 43110 learning_steps 2155\n"
     ]
    },
    {
     "data": {
      "image/png": "[encoded data removed]",
      "text/plain": [
       "<Figure size 432x288 with 1 Axes>"
      ]
     },
     "metadata": {
      "needs_background": "light"
     },
     "output_type": "display_data"
    }
   ],
   "source": [
    "if __name__ == '__main__':\n",
    "    env = gym.make('ALE/Pong-v5')\n",
    "    N = 20\n",
    "    batch_size = 5\n",
    "    n_epochs = 4\n",
    "    alpha = 0.0003\n",
    "\n",
    "    raw_image = env.reset()\n",
    "    preprocessed_image = prepro(raw_image) #(1, 80, 80)\n",
    "\n",
    "    flattened = preprocessed_image.flatten()\n",
    "    agent = Agent(num_actions = env.action_space.n, batch_size = 5, alpha = 0.0003, num_epochs = 4, input_dims = flattened.shape)\n",
    "    n_games = 50\n",
    "\n",
    "    figure_file = 'plots/Pong.png'\n",
    "\n",
    "    best_score = env.reward_range[0]\n",
    "    score_history = []\n",
    "\n",
    "    learn_iters = 0\n",
    "    avg_score = 0\n",
    "    n_steps = 0\n",
    "\n",
    "    # Load model\n",
    "    agent.load_models()\n",
    "    \n",
    "    for i in range(n_games): # 103 min 8.8 sec for 300 iterations\n",
    "        observation = env.reset()\n",
    "        done = False\n",
    "        score = 0\n",
    "        while not done:\n",
    "            observation = prepro(observation) # need to preprocess each time\n",
    "            action, prob, val = agent.choose_action(observation)\n",
    "            observation_, reward, done, info = env.step(action)\n",
    "            n_steps += 1\n",
    "            score += reward\n",
    "            agent.remember(observation, action, prob, val, reward, done)\n",
    "            if n_steps % N == 0: # if true, it's time to perform learning function\n",
    "                agent.learn()\n",
    "                learn_iters += 1\n",
    "            observation = observation_\n",
    "        score_history.append(score)\n",
    "        avg_score = np.mean(score_history[-100:])\n",
    "\n",
    "        if avg_score > best_score: # if best score found\n",
    "            best_score = avg_score\n",
    "            agent.save_models()\n",
    "\n",
    "        print('episode', i, 'score %.1f' % score, 'avg score %.1f' % avg_score,\n",
    "                'time_steps', n_steps, 'learning_steps', learn_iters)\n",
    "    x = [i+1 for i in range(len(score_history))]\n",
    "    plot_learning_curve(x, score_history, figure_file, \"Training Episodes\", \"Average Scores\")"
   ]
  },
  {
   "cell_type": "markdown",
   "metadata": {},
   "source": [
    "# Test Trained Model"
   ]
  },
  {
   "cell_type": "code",
   "execution_count": null,
   "metadata": {},
   "outputs": [],
   "source": [
    "    env = gym.make('ALE/Pong-v5')\n",
    "    N = 20\n",
    "    batch_size = 5\n",
    "    n_epochs = 4\n",
    "    alpha = 0.0003\n",
    "\n",
    "    raw_image = env.reset()\n",
    "    preprocessed_image = prepro(raw_image)  # (1, 80, 80)\n",
    "\n",
    "    flattened = preprocessed_image.flatten()\n",
    "    agent = Agent(num_actions=env.action_space.n, batch_size=5,\n",
    "                alpha=0.0003, num_epochs=4, input_dims=flattened.shape)\n",
    "    n_games = 50\n",
    "\n",
    "    figure_file = 'plots/Pong.png'\n",
    "\n",
    "    best_score = env.reward_range[0]\n",
    "    score_history = []\n",
    "\n",
    "    learn_iters = 0\n",
    "    avg_score = 0\n",
    "    n_steps = 0\n",
    "    while not done:\n",
    "        env.render()\n",
    "        action, prob, val = agent.choose_action(observation)\n",
    "        observation_, reward, done, info = env.step(action)\n",
    "        n_steps += 1\n",
    "        score += reward\n",
    "        agent.remember(observation, action, prob, val, reward, done)\n",
    "        if n_steps % N == 0:  # if true, it's time to perform learning function\n",
    "            agent.learn()\n",
    "            learn_iters += 1\n",
    "        observation = observation_\n",
    "    print(score)\n",
    "    env.close()\n"
   ]
  }
 ],
 "metadata": {
  "interpreter": {
   "hash": "e96d89988d0d8e7d7a8ab5719ad00aeab7b060c61a49b19476af80724aec9e8a"
  },
  "kernelspec": {
   "display_name": "Python 3.9.7 ('base')",
   "language": "python",
   "name": "python3"
  },
  "language_info": {
   "codemirror_mode": {
    "name": "ipython",
    "version": 3
   },
   "file_extension": ".py",
   "mimetype": "text/x-python",
   "name": "python",
   "nbconvert_exporter": "python",
   "pygments_lexer": "ipython3",
   "version": "3.9.7"
  },
  "orig_nbformat": 4
 },
 "nbformat": 4,
 "nbformat_minor": 2
}
