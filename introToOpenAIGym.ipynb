{
 "cells": [
  {
   "cell_type": "markdown",
   "metadata": {},
   "source": [
    "**Introduction to Open AI Gym**\n",
    "\n",
    "A quick testing code to get familiar with the Open AI Gym environment using the Cartpole AI\n",
    "\n",
    "Rosaline Zhu, Stanley Araki"
   ]
  },
  {
   "cell_type": "code",
   "execution_count": 6,
   "metadata": {},
   "outputs": [],
   "source": [
    "import gym\n",
    "import random\n",
    "import pyglet # Will need to pip install pyglet"
   ]
  },
  {
   "cell_type": "code",
   "execution_count": 7,
   "metadata": {},
   "outputs": [
    {
     "name": "stdout",
     "output_type": "stream",
     "text": [
      "Observation Space:  Box([-4.8000002e+00 -3.4028235e+38 -4.1887903e-01 -3.4028235e+38], [4.8000002e+00 3.4028235e+38 4.1887903e-01 3.4028235e+38], (4,), float32)\n",
      "Action space:  Discrete(2)\n"
     ]
    }
   ],
   "source": [
    "env_name = \"CartPole-v1\"\n",
    "env = gym.make(env_name)\n",
    "\n",
    "print(\"Observation Space: \", env.observation_space)\n",
    "print(\"Action space: \", env.action_space)"
   ]
  },
  {
   "cell_type": "markdown",
   "metadata": {},
   "source": [
    "**Simulation**\n",
    "\n",
    "Simulate a random play through of the CartPole environment"
   ]
  },
  {
   "cell_type": "code",
   "execution_count": 8,
   "metadata": {},
   "outputs": [],
   "source": [
    "class Agent(): \n",
    "    # Uses information from the environment to make custom actions\n",
    "    def __init__(self, env):\n",
    "        self.action_size = env.action_space.n # Save the number of actions available \n",
    "        print(\"Action size:\", self.action_size)\n",
    "    def get_action(self, state): # choose action from available actions\n",
    "        # action = random.choice(range(self.action_size))\n",
    "        pole_angle = state[2] # Reason why index is 2 is in documentation of cartpole \n",
    "        action = 0 if pole_angle < 0 else 1\n",
    "        return action\n"
   ]
  },
  {
   "cell_type": "code",
   "execution_count": 9,
   "metadata": {},
   "outputs": [
    {
     "name": "stdout",
     "output_type": "stream",
     "text": [
      "Action size: 2\n"
     ]
    },
    {
     "name": "stderr",
     "output_type": "stream",
     "text": [
      "2022-04-04 19:21:39.463 python[7968:660598] Warning: Expected min height of view: (<NSPopoverTouchBarItemButton: 0x7fd0381d6ff0>) to be less than or equal to 30 but got a height of 32.000000. This error will be logged once per view in violation.\n",
      "2022-04-04 19:21:39.464 python[7968:660598] Warning: Expected min height of view: (<NSButton: 0x7fd0377b4fe0>) to be less than or equal to 30 but got a height of 32.000000. This error will be logged once per view in violation.\n",
      "2022-04-04 19:21:39.469 python[7968:660598] Warning: Expected min height of view: (<NSPopoverTouchBarItemButton: 0x7fd04162d240>) to be less than or equal to 30 but got a height of 32.000000. This error will be logged once per view in violation.\n",
      "2022-04-04 19:21:39.472 python[7968:660598] Warning: Expected min height of view: (<NSPopoverTouchBarItemButton: 0x7fd0377c5300>) to be less than or equal to 30 but got a height of 32.000000. This error will be logged once per view in violation.\n"
     ]
    }
   ],
   "source": [
    "agent = Agent(env)\n",
    "state = env.reset() # returns the initial state\n",
    "\n",
    "for _ in range(200):\n",
    "    # action = env.action_space.sample() # random action\n",
    "    action = agent.get_action(state) # get action for environment\n",
    "    # Apply that action to the environment by calling env.step()\n",
    "    state, reward, done, info = env.step(action) # env.step() returns a tuple containing next state, reward, whether or not if done, and some additional info\n",
    "    env.render() # Display the graphics\n",
    "    if done:\n",
    "        env.reset()"
   ]
  },
  {
   "cell_type": "code",
   "execution_count": 10,
   "metadata": {},
   "outputs": [],
   "source": [
    "# Define a policy that gets action based on the current state\n"
   ]
  }
 ],
 "metadata": {
  "interpreter": {
   "hash": "e96d89988d0d8e7d7a8ab5719ad00aeab7b060c61a49b19476af80724aec9e8a"
  },
  "kernelspec": {
   "display_name": "Python 3.9.7 ('base')",
   "language": "python",
   "name": "python3"
  },
  "language_info": {
   "codemirror_mode": {
    "name": "ipython",
    "version": 3
   },
   "file_extension": ".py",
   "mimetype": "text/x-python",
   "name": "python",
   "nbconvert_exporter": "python",
   "pygments_lexer": "ipython3",
   "version": "3.9.7"
  },
  "orig_nbformat": 4
 },
 "nbformat": 4,
 "nbformat_minor": 2
}
